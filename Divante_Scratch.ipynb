{
 "cells": [
  {
   "cell_type": "code",
   "execution_count": 1,
   "id": "ab37e89e",
   "metadata": {},
   "outputs": [],
   "source": [
    "import pandas as pd\n",
    "import env\n",
    "import wrangle"
   ]
  },
  {
   "cell_type": "code",
   "execution_count": 2,
   "id": "1e22373f",
   "metadata": {},
   "outputs": [],
   "source": [
    "df = pd.read_csv('anonymized-curriculum-access.txt', sep=\" \")"
   ]
  },
  {
   "cell_type": "code",
   "execution_count": 3,
   "id": "a048de19",
   "metadata": {},
   "outputs": [
    {
     "data": {
      "text/html": [
       "<div>\n",
       "<style scoped>\n",
       "    .dataframe tbody tr th:only-of-type {\n",
       "        vertical-align: middle;\n",
       "    }\n",
       "\n",
       "    .dataframe tbody tr th {\n",
       "        vertical-align: top;\n",
       "    }\n",
       "\n",
       "    .dataframe thead th {\n",
       "        text-align: right;\n",
       "    }\n",
       "</style>\n",
       "<table border=\"1\" class=\"dataframe\">\n",
       "  <thead>\n",
       "    <tr style=\"text-align: right;\">\n",
       "      <th></th>\n",
       "      <th>2018-01-26</th>\n",
       "      <th>09:55:03</th>\n",
       "      <th>/</th>\n",
       "      <th>1</th>\n",
       "      <th>8</th>\n",
       "      <th>97.105.19.61</th>\n",
       "    </tr>\n",
       "  </thead>\n",
       "  <tbody>\n",
       "    <tr>\n",
       "      <th>0</th>\n",
       "      <td>2018-01-26</td>\n",
       "      <td>09:56:02</td>\n",
       "      <td>java-ii</td>\n",
       "      <td>1</td>\n",
       "      <td>8.0</td>\n",
       "      <td>97.105.19.61</td>\n",
       "    </tr>\n",
       "    <tr>\n",
       "      <th>1</th>\n",
       "      <td>2018-01-26</td>\n",
       "      <td>09:56:05</td>\n",
       "      <td>java-ii/object-oriented-programming</td>\n",
       "      <td>1</td>\n",
       "      <td>8.0</td>\n",
       "      <td>97.105.19.61</td>\n",
       "    </tr>\n",
       "    <tr>\n",
       "      <th>2</th>\n",
       "      <td>2018-01-26</td>\n",
       "      <td>09:56:06</td>\n",
       "      <td>slides/object_oriented_programming</td>\n",
       "      <td>1</td>\n",
       "      <td>8.0</td>\n",
       "      <td>97.105.19.61</td>\n",
       "    </tr>\n",
       "    <tr>\n",
       "      <th>3</th>\n",
       "      <td>2018-01-26</td>\n",
       "      <td>09:56:24</td>\n",
       "      <td>javascript-i/conditionals</td>\n",
       "      <td>2</td>\n",
       "      <td>22.0</td>\n",
       "      <td>97.105.19.61</td>\n",
       "    </tr>\n",
       "    <tr>\n",
       "      <th>4</th>\n",
       "      <td>2018-01-26</td>\n",
       "      <td>09:56:41</td>\n",
       "      <td>javascript-i/loops</td>\n",
       "      <td>2</td>\n",
       "      <td>22.0</td>\n",
       "      <td>97.105.19.61</td>\n",
       "    </tr>\n",
       "  </tbody>\n",
       "</table>\n",
       "</div>"
      ],
      "text/plain": [
       "   2018-01-26  09:55:03                                    /  1     8  \\\n",
       "0  2018-01-26  09:56:02                              java-ii  1   8.0   \n",
       "1  2018-01-26  09:56:05  java-ii/object-oriented-programming  1   8.0   \n",
       "2  2018-01-26  09:56:06   slides/object_oriented_programming  1   8.0   \n",
       "3  2018-01-26  09:56:24            javascript-i/conditionals  2  22.0   \n",
       "4  2018-01-26  09:56:41                   javascript-i/loops  2  22.0   \n",
       "\n",
       "   97.105.19.61  \n",
       "0  97.105.19.61  \n",
       "1  97.105.19.61  \n",
       "2  97.105.19.61  \n",
       "3  97.105.19.61  \n",
       "4  97.105.19.61  "
      ]
     },
     "execution_count": 3,
     "metadata": {},
     "output_type": "execute_result"
    }
   ],
   "source": [
    "df.head()"
   ]
  },
  {
   "cell_type": "code",
   "execution_count": null,
   "id": "bd2e6fc7",
   "metadata": {},
   "outputs": [],
   "source": []
  },
  {
   "cell_type": "code",
   "execution_count": 4,
   "id": "3d4e9330",
   "metadata": {},
   "outputs": [],
   "source": [
    "def acquire_logs(user=env.user, password=env.password, host=env.host):\n",
    "    '''\n",
    "    This function gathers curriculum_logs data from the \n",
    "    SQL codeup database and returns the information in a \n",
    "    pandas dataframe\n",
    "    '''\n",
    "    url = f'mysql+pymysql://{env.user}:{env.password}@{env.host}/curriculum_logs'\n",
    "    query = '''\n",
    "    select * from cohorts;\n",
    "    '''\n",
    "    df = pd.read_sql(query, url)\n",
    "    df.to_csv('cohorts.csv')"
   ]
  },
  {
   "cell_type": "code",
   "execution_count": 5,
   "id": "fb46e672",
   "metadata": {},
   "outputs": [],
   "source": [
    "# acquire_logs()"
   ]
  },
  {
   "cell_type": "code",
   "execution_count": 6,
   "id": "f392ab92",
   "metadata": {},
   "outputs": [],
   "source": [
    "# df_2 = pd.read_csv('cohorts.csv')"
   ]
  },
  {
   "cell_type": "code",
   "execution_count": 7,
   "id": "f0b804ff",
   "metadata": {},
   "outputs": [],
   "source": [
    "# df_2 = df_2.drop(columns ='Unnamed: 0')"
   ]
  },
  {
   "cell_type": "code",
   "execution_count": 8,
   "id": "5008b2dc",
   "metadata": {},
   "outputs": [],
   "source": [
    "# df.info()"
   ]
  },
  {
   "cell_type": "code",
   "execution_count": 9,
   "id": "b5b01d1b",
   "metadata": {},
   "outputs": [],
   "source": [
    "# df.loc[len(df.index)] = ['2018-01-26', '09:55:03', '/', 1, 8 , '97.105.19.61']\n",
    "# df.columns = ['date', 'time', 'path', 'user_id', 'cohort_id', 'ip']\n",
    "# df.tail()"
   ]
  },
  {
   "cell_type": "code",
   "execution_count": 10,
   "id": "d6c49634",
   "metadata": {
    "scrolled": true
   },
   "outputs": [],
   "source": [
    "# df_2"
   ]
  },
  {
   "cell_type": "code",
   "execution_count": 11,
   "id": "57462ef5",
   "metadata": {},
   "outputs": [],
   "source": [
    "# df.head()"
   ]
  },
  {
   "cell_type": "code",
   "execution_count": 12,
   "id": "8589ac6c",
   "metadata": {},
   "outputs": [],
   "source": [
    "# df.shape"
   ]
  },
  {
   "cell_type": "code",
   "execution_count": 13,
   "id": "121625e6",
   "metadata": {
    "scrolled": true
   },
   "outputs": [],
   "source": [
    "# df = df.merge(df_2, left_on='cohort_id', right_on='id')\n",
    "# df"
   ]
  },
  {
   "cell_type": "code",
   "execution_count": 14,
   "id": "766cca4f",
   "metadata": {},
   "outputs": [],
   "source": [
    "# df = df.drop(columns = 'id')\n"
   ]
  },
  {
   "cell_type": "code",
   "execution_count": 15,
   "id": "a8232127",
   "metadata": {},
   "outputs": [],
   "source": [
    "# df.deleted_at.value_counts()\n",
    "# df = df.drop(columns = 'deleted_at')"
   ]
  },
  {
   "cell_type": "code",
   "execution_count": 16,
   "id": "9fe0ee11",
   "metadata": {},
   "outputs": [],
   "source": [
    "# df.program_id.info()"
   ]
  },
  {
   "cell_type": "code",
   "execution_count": 17,
   "id": "1d989fe0",
   "metadata": {
    "scrolled": true
   },
   "outputs": [],
   "source": [
    "# df.info()"
   ]
  },
  {
   "cell_type": "code",
   "execution_count": 18,
   "id": "e525b61e",
   "metadata": {},
   "outputs": [],
   "source": [
    "# df.head()"
   ]
  },
  {
   "cell_type": "code",
   "execution_count": 19,
   "id": "7f386e10",
   "metadata": {},
   "outputs": [],
   "source": [
    "# df['date'] = pd.to_datetime( df['date'])\n",
    "# df['time'] = pd.to_datetime( df['time'])\n",
    "# df['start_date'] = pd.to_datetime( df['start_date'])\n",
    "# df['end_date'] = pd.to_datetime( df['end_date'])\n",
    "# df['created_at'] = pd.to_datetime( df['created_at'])\n",
    "# df['updated_at'] = pd.to_datetime( df['updated_at'])\n",
    "\n"
   ]
  },
  {
   "cell_type": "code",
   "execution_count": 20,
   "id": "2f71e0ab",
   "metadata": {},
   "outputs": [],
   "source": [
    "df = wrangle.get_data()"
   ]
  },
  {
   "cell_type": "code",
   "execution_count": 21,
   "id": "f5971554",
   "metadata": {},
   "outputs": [
    {
     "data": {
      "text/html": [
       "<div>\n",
       "<style scoped>\n",
       "    .dataframe tbody tr th:only-of-type {\n",
       "        vertical-align: middle;\n",
       "    }\n",
       "\n",
       "    .dataframe tbody tr th {\n",
       "        vertical-align: top;\n",
       "    }\n",
       "\n",
       "    .dataframe thead th {\n",
       "        text-align: right;\n",
       "    }\n",
       "</style>\n",
       "<table border=\"1\" class=\"dataframe\">\n",
       "  <thead>\n",
       "    <tr style=\"text-align: right;\">\n",
       "      <th></th>\n",
       "      <th>program_id</th>\n",
       "      <th>name</th>\n",
       "    </tr>\n",
       "  </thead>\n",
       "  <tbody>\n",
       "    <tr>\n",
       "      <th>0</th>\n",
       "      <td>1.0</td>\n",
       "      <td>Hampton</td>\n",
       "    </tr>\n",
       "    <tr>\n",
       "      <th>1</th>\n",
       "      <td>1.0</td>\n",
       "      <td>Hampton</td>\n",
       "    </tr>\n",
       "    <tr>\n",
       "      <th>2</th>\n",
       "      <td>1.0</td>\n",
       "      <td>Hampton</td>\n",
       "    </tr>\n",
       "    <tr>\n",
       "      <th>3</th>\n",
       "      <td>2.0</td>\n",
       "      <td>Teddy</td>\n",
       "    </tr>\n",
       "    <tr>\n",
       "      <th>4</th>\n",
       "      <td>2.0</td>\n",
       "      <td>Teddy</td>\n",
       "    </tr>\n",
       "    <tr>\n",
       "      <th>...</th>\n",
       "      <td>...</td>\n",
       "      <td>...</td>\n",
       "    </tr>\n",
       "    <tr>\n",
       "      <th>900218</th>\n",
       "      <td>2.0</td>\n",
       "      <td>Staff</td>\n",
       "    </tr>\n",
       "    <tr>\n",
       "      <th>900219</th>\n",
       "      <td>2.0</td>\n",
       "      <td>Staff</td>\n",
       "    </tr>\n",
       "    <tr>\n",
       "      <th>900220</th>\n",
       "      <td>2.0</td>\n",
       "      <td>Staff</td>\n",
       "    </tr>\n",
       "    <tr>\n",
       "      <th>900221</th>\n",
       "      <td>2.0</td>\n",
       "      <td>Staff</td>\n",
       "    </tr>\n",
       "    <tr>\n",
       "      <th>900222</th>\n",
       "      <td>1.0</td>\n",
       "      <td>Hampton</td>\n",
       "    </tr>\n",
       "  </tbody>\n",
       "</table>\n",
       "<p>900223 rows × 2 columns</p>\n",
       "</div>"
      ],
      "text/plain": [
       "        program_id     name\n",
       "0              1.0  Hampton\n",
       "1              1.0  Hampton\n",
       "2              1.0  Hampton\n",
       "3              2.0    Teddy\n",
       "4              2.0    Teddy\n",
       "...            ...      ...\n",
       "900218         2.0    Staff\n",
       "900219         2.0    Staff\n",
       "900220         2.0    Staff\n",
       "900221         2.0    Staff\n",
       "900222         1.0  Hampton\n",
       "\n",
       "[900223 rows x 2 columns]"
      ]
     },
     "execution_count": 21,
     "metadata": {},
     "output_type": "execute_result"
    }
   ],
   "source": [
    "df[['program_id','name']]"
   ]
  },
  {
   "cell_type": "code",
   "execution_count": 22,
   "id": "2d9a3a81",
   "metadata": {},
   "outputs": [
    {
     "data": {
      "text/plain": [
       "array(['Hampton', 'Teddy', 'Sequoia', 'Arches', 'Niagara', 'Pinnacles',\n",
       "       'Quincy', nan, 'Kings', 'Lassen', 'Mammoth', 'Glacier', 'Denali',\n",
       "       'Joshua', 'Olympic', 'Ulysses', 'Badlands', 'Apollo', 'Ike',\n",
       "       'Voyageurs', 'Wrangell', 'Xanadu', 'Franklin', 'Yosemite', 'Staff',\n",
       "       'Zion', 'Andromeda', 'Betelgeuse', 'Ceres', 'Bayes', 'Deimos',\n",
       "       'Europa', 'Fortuna', 'Curie', 'Apex', 'Ganymede', 'Everglades',\n",
       "       'Hyperion', 'Darden', 'Bash', 'Jupiter', 'Kalypso', 'Luna',\n",
       "       'Easley', 'Marco', 'Neptune', 'Florence', 'Oberon'], dtype=object)"
      ]
     },
     "execution_count": 22,
     "metadata": {},
     "output_type": "execute_result"
    }
   ],
   "source": [
    "df.name.unique()"
   ]
  },
  {
   "cell_type": "code",
   "execution_count": 23,
   "id": "9ca77b75",
   "metadata": {},
   "outputs": [
    {
     "data": {
      "text/html": [
       "<div>\n",
       "<style scoped>\n",
       "    .dataframe tbody tr th:only-of-type {\n",
       "        vertical-align: middle;\n",
       "    }\n",
       "\n",
       "    .dataframe tbody tr th {\n",
       "        vertical-align: top;\n",
       "    }\n",
       "\n",
       "    .dataframe thead th {\n",
       "        text-align: right;\n",
       "    }\n",
       "</style>\n",
       "<table border=\"1\" class=\"dataframe\">\n",
       "  <thead>\n",
       "    <tr style=\"text-align: right;\">\n",
       "      <th></th>\n",
       "      <th>date</th>\n",
       "      <th>time</th>\n",
       "      <th>path</th>\n",
       "      <th>user_id</th>\n",
       "      <th>cohort_id</th>\n",
       "      <th>ip</th>\n",
       "      <th>name</th>\n",
       "      <th>start_date</th>\n",
       "      <th>end_date</th>\n",
       "      <th>created_at</th>\n",
       "      <th>updated_at</th>\n",
       "      <th>program_id</th>\n",
       "    </tr>\n",
       "  </thead>\n",
       "  <tbody>\n",
       "    <tr>\n",
       "      <th>0</th>\n",
       "      <td>2018-01-26</td>\n",
       "      <td>09:56:02</td>\n",
       "      <td>java-ii</td>\n",
       "      <td>1</td>\n",
       "      <td>8.0</td>\n",
       "      <td>97.105.19.61</td>\n",
       "      <td>Hampton</td>\n",
       "      <td>2015-09-22</td>\n",
       "      <td>2016-02-06</td>\n",
       "      <td>2016-06-14 19:52:26</td>\n",
       "      <td>2016-06-14 19:52:26</td>\n",
       "      <td>1.0</td>\n",
       "    </tr>\n",
       "    <tr>\n",
       "      <th>1</th>\n",
       "      <td>2018-01-26</td>\n",
       "      <td>09:56:05</td>\n",
       "      <td>java-ii/object-oriented-programming</td>\n",
       "      <td>1</td>\n",
       "      <td>8.0</td>\n",
       "      <td>97.105.19.61</td>\n",
       "      <td>Hampton</td>\n",
       "      <td>2015-09-22</td>\n",
       "      <td>2016-02-06</td>\n",
       "      <td>2016-06-14 19:52:26</td>\n",
       "      <td>2016-06-14 19:52:26</td>\n",
       "      <td>1.0</td>\n",
       "    </tr>\n",
       "    <tr>\n",
       "      <th>2</th>\n",
       "      <td>2018-01-26</td>\n",
       "      <td>09:56:06</td>\n",
       "      <td>slides/object_oriented_programming</td>\n",
       "      <td>1</td>\n",
       "      <td>8.0</td>\n",
       "      <td>97.105.19.61</td>\n",
       "      <td>Hampton</td>\n",
       "      <td>2015-09-22</td>\n",
       "      <td>2016-02-06</td>\n",
       "      <td>2016-06-14 19:52:26</td>\n",
       "      <td>2016-06-14 19:52:26</td>\n",
       "      <td>1.0</td>\n",
       "    </tr>\n",
       "    <tr>\n",
       "      <th>3</th>\n",
       "      <td>2018-01-26</td>\n",
       "      <td>09:56:24</td>\n",
       "      <td>javascript-i/conditionals</td>\n",
       "      <td>2</td>\n",
       "      <td>22.0</td>\n",
       "      <td>97.105.19.61</td>\n",
       "      <td>Teddy</td>\n",
       "      <td>2018-01-08</td>\n",
       "      <td>2018-05-17</td>\n",
       "      <td>2018-01-08 13:59:10</td>\n",
       "      <td>2018-01-08 13:59:10</td>\n",
       "      <td>2.0</td>\n",
       "    </tr>\n",
       "    <tr>\n",
       "      <th>4</th>\n",
       "      <td>2018-01-26</td>\n",
       "      <td>09:56:41</td>\n",
       "      <td>javascript-i/loops</td>\n",
       "      <td>2</td>\n",
       "      <td>22.0</td>\n",
       "      <td>97.105.19.61</td>\n",
       "      <td>Teddy</td>\n",
       "      <td>2018-01-08</td>\n",
       "      <td>2018-05-17</td>\n",
       "      <td>2018-01-08 13:59:10</td>\n",
       "      <td>2018-01-08 13:59:10</td>\n",
       "      <td>2.0</td>\n",
       "    </tr>\n",
       "  </tbody>\n",
       "</table>\n",
       "</div>"
      ],
      "text/plain": [
       "        date      time                                 path  user_id  \\\n",
       "0 2018-01-26  09:56:02                              java-ii        1   \n",
       "1 2018-01-26  09:56:05  java-ii/object-oriented-programming        1   \n",
       "2 2018-01-26  09:56:06   slides/object_oriented_programming        1   \n",
       "3 2018-01-26  09:56:24            javascript-i/conditionals        2   \n",
       "4 2018-01-26  09:56:41                   javascript-i/loops        2   \n",
       "\n",
       "   cohort_id            ip     name start_date   end_date          created_at  \\\n",
       "0        8.0  97.105.19.61  Hampton 2015-09-22 2016-02-06 2016-06-14 19:52:26   \n",
       "1        8.0  97.105.19.61  Hampton 2015-09-22 2016-02-06 2016-06-14 19:52:26   \n",
       "2        8.0  97.105.19.61  Hampton 2015-09-22 2016-02-06 2016-06-14 19:52:26   \n",
       "3       22.0  97.105.19.61    Teddy 2018-01-08 2018-05-17 2018-01-08 13:59:10   \n",
       "4       22.0  97.105.19.61    Teddy 2018-01-08 2018-05-17 2018-01-08 13:59:10   \n",
       "\n",
       "           updated_at  program_id  \n",
       "0 2016-06-14 19:52:26         1.0  \n",
       "1 2016-06-14 19:52:26         1.0  \n",
       "2 2016-06-14 19:52:26         1.0  \n",
       "3 2018-01-08 13:59:10         2.0  \n",
       "4 2018-01-08 13:59:10         2.0  "
      ]
     },
     "execution_count": 23,
     "metadata": {},
     "output_type": "execute_result"
    }
   ],
   "source": [
    "df.head()"
   ]
  },
  {
   "cell_type": "code",
   "execution_count": 24,
   "id": "d6b881d0",
   "metadata": {
    "scrolled": true
   },
   "outputs": [],
   "source": [
    "df.program_id = df.program_id.replace({1: 'full_stack_java_php'})\n",
    "\n",
    "df.program_id = df.program_id.replace({2: 'full_stack_java_java'})\n",
    "\n",
    "\n",
    "df.program_id = df.program_id.replace({3: 'datascience'})\n",
    "df.program_id = df.program_id.replace({4: 'front_end_web_dev'})\n",
    "\n",
    "\n",
    "# df[['name','program_id','user_id']][df.program_id == 1].groupby(df[['name', 'program_id']]).sum()"
   ]
  },
  {
   "cell_type": "code",
   "execution_count": 25,
   "id": "8466d7c5",
   "metadata": {},
   "outputs": [
    {
     "data": {
      "text/plain": [
       "0         Hampton\n",
       "1         Hampton\n",
       "2         Hampton\n",
       "3           Teddy\n",
       "4           Teddy\n",
       "           ...   \n",
       "900218      Staff\n",
       "900219      Staff\n",
       "900220      Staff\n",
       "900221      Staff\n",
       "900222    Hampton\n",
       "Name: name, Length: 900223, dtype: object"
      ]
     },
     "execution_count": 25,
     "metadata": {},
     "output_type": "execute_result"
    }
   ],
   "source": [
    "df.name"
   ]
  },
  {
   "cell_type": "code",
   "execution_count": 26,
   "id": "3155b148",
   "metadata": {},
   "outputs": [
    {
     "data": {
      "text/plain": [
       "2015-02-24        1\n",
       "2015-01-18        4\n",
       "2015-07-29        5\n",
       "2015-05-26       72\n",
       "2014-08-22       93\n",
       "2016-05-12      253\n",
       "2016-06-30      302\n",
       "2015-10-06      598\n",
       "2017-02-02      691\n",
       "2017-03-09      755\n",
       "2017-09-22     1237\n",
       "2021-10-01     1672\n",
       "2016-02-06     1712\n",
       "2017-07-20     2158\n",
       "2016-09-15     2845\n",
       "2017-05-25     4954\n",
       "2018-02-15     7444\n",
       "2014-04-22     8890\n",
       "2016-11-10     9587\n",
       "2021-09-03    15838\n",
       "2021-07-19    16397\n",
       "2021-01-21    17713\n",
       "2019-04-03    20743\n",
       "2020-07-07    21582\n",
       "2021-05-04    23691\n",
       "2019-07-30    25359\n",
       "2018-11-29    25586\n",
       "2020-01-30    26538\n",
       "2019-02-08    27749\n",
       "2020-04-17    28033\n",
       "2018-07-19    28534\n",
       "2019-10-08    29356\n",
       "2020-11-10    29855\n",
       "2018-05-17    30926\n",
       "2021-06-08    31338\n",
       "2021-01-12    32015\n",
       "2020-02-27    32888\n",
       "2020-07-29    33568\n",
       "2020-08-20    33844\n",
       "2018-10-11    35636\n",
       "2020-06-23    36902\n",
       "2021-03-30    37109\n",
       "2019-06-04    38096\n",
       "2019-12-11    40730\n",
       "2014-02-04    84031\n",
       "Name: end_date, dtype: int64"
      ]
     },
     "execution_count": 26,
     "metadata": {},
     "output_type": "execute_result"
    }
   ],
   "source": [
    "df.end_date.value_counts().sort_values()"
   ]
  },
  {
   "cell_type": "code",
   "execution_count": 27,
   "id": "a1cab28b",
   "metadata": {},
   "outputs": [
    {
     "data": {
      "text/plain": [
       "full_stack_java_java    713365\n",
       "datascience             103412\n",
       "full_stack_java_php      30548\n",
       "front_end_web_dev            5\n",
       "Name: program_id, dtype: int64"
      ]
     },
     "execution_count": 27,
     "metadata": {},
     "output_type": "execute_result"
    }
   ],
   "source": [
    "df.program_id.value_counts()"
   ]
  },
  {
   "cell_type": "code",
   "execution_count": 28,
   "id": "459fee13",
   "metadata": {},
   "outputs": [
    {
     "data": {
      "text/plain": [
       "/                                                               50313\n",
       "search/search_index.json                                        19519\n",
       "javascript-i                                                    18983\n",
       "toc                                                             18297\n",
       "java-iii                                                        13733\n",
       "                                                                ...  \n",
       "javascript/loops                                                    1\n",
       "content/control-structures-ii                                       1\n",
       "javascript-ii/promisesdfghjkjhgfs                                   1\n",
       "app                                                                 1\n",
       "appendix/professional-development/post-interview-review-form        1\n",
       "Name: path, Length: 2313, dtype: int64"
      ]
     },
     "execution_count": 28,
     "metadata": {},
     "output_type": "execute_result"
    }
   ],
   "source": [
    "df.path.value_counts()"
   ]
  },
  {
   "cell_type": "code",
   "execution_count": 29,
   "id": "08ef3bc9",
   "metadata": {
    "scrolled": false
   },
   "outputs": [
    {
     "name": "stderr",
     "output_type": "stream",
     "text": [
      "/var/folders/9q/9mllqnsn2vq07btq58zw9zzc0000gn/T/ipykernel_86954/1871299795.py:2: FutureWarning: The default value of numeric_only in DataFrameGroupBy.sum is deprecated. In a future version, numeric_only will default to False. Either specify numeric_only or select only columns which should be valid for the function.\n",
      "  answer = df.groupby(by=[\"cohort_id\", 'path']).sum()\n"
     ]
    }
   ],
   "source": [
    "# pd.set_option('display.max_rows', None)\n",
    "answer = df.groupby(by=[\"cohort_id\", 'path']).sum()"
   ]
  },
  {
   "cell_type": "code",
   "execution_count": 30,
   "id": "2a00e48b",
   "metadata": {},
   "outputs": [
    {
     "data": {
      "text/plain": [
       "array([  1.,   2.,   4.,   5.,   6.,   7.,   8.,   9.,  11.,  12.,  13.,\n",
       "        14.,  15.,  16.,  17.,  18.,  19.,  21.,  22.,  23.,  24.,  25.,\n",
       "        26.,  27.,  28.,  29.,  31.,  32.,  33.,  34.,  51.,  52.,  53.,\n",
       "        55.,  56.,  57.,  58.,  59.,  61.,  62., 132., 133., 134., 135.,\n",
       "       137., 138., 139.])"
      ]
     },
     "execution_count": 30,
     "metadata": {},
     "output_type": "execute_result"
    }
   ],
   "source": [
    "answer = answer.reset_index()\n",
    "answer.cohort_id.unique()"
   ]
  },
  {
   "cell_type": "code",
   "execution_count": 31,
   "id": "8ed3b888",
   "metadata": {},
   "outputs": [
    {
     "data": {
      "text/html": [
       "<div>\n",
       "<style scoped>\n",
       "    .dataframe tbody tr th:only-of-type {\n",
       "        vertical-align: middle;\n",
       "    }\n",
       "\n",
       "    .dataframe tbody tr th {\n",
       "        vertical-align: top;\n",
       "    }\n",
       "\n",
       "    .dataframe thead th {\n",
       "        text-align: right;\n",
       "    }\n",
       "</style>\n",
       "<table border=\"1\" class=\"dataframe\">\n",
       "  <thead>\n",
       "    <tr style=\"text-align: right;\">\n",
       "      <th></th>\n",
       "      <th>path</th>\n",
       "      <th>cohort_id</th>\n",
       "      <th>user_id</th>\n",
       "    </tr>\n",
       "  </thead>\n",
       "  <tbody>\n",
       "    <tr>\n",
       "      <th>0</th>\n",
       "      <td>/</td>\n",
       "      <td>1.0</td>\n",
       "      <td>42115</td>\n",
       "    </tr>\n",
       "    <tr>\n",
       "      <th>1</th>\n",
       "      <td>0_Classification_Algorithms</td>\n",
       "      <td>1.0</td>\n",
       "      <td>248</td>\n",
       "    </tr>\n",
       "    <tr>\n",
       "      <th>2</th>\n",
       "      <td>2.0_Intro_Stats</td>\n",
       "      <td>1.0</td>\n",
       "      <td>248</td>\n",
       "    </tr>\n",
       "    <tr>\n",
       "      <th>3</th>\n",
       "      <td>5.0_Intro_Regression</td>\n",
       "      <td>1.0</td>\n",
       "      <td>496</td>\n",
       "    </tr>\n",
       "    <tr>\n",
       "      <th>4</th>\n",
       "      <td>7.0_Intro_Clustering</td>\n",
       "      <td>1.0</td>\n",
       "      <td>496</td>\n",
       "    </tr>\n",
       "    <tr>\n",
       "      <th>...</th>\n",
       "      <td>...</td>\n",
       "      <td>...</td>\n",
       "      <td>...</td>\n",
       "    </tr>\n",
       "    <tr>\n",
       "      <th>337</th>\n",
       "      <td>spring/setup</td>\n",
       "      <td>1.0</td>\n",
       "      <td>5127</td>\n",
       "    </tr>\n",
       "    <tr>\n",
       "      <th>338</th>\n",
       "      <td>students</td>\n",
       "      <td>1.0</td>\n",
       "      <td>316</td>\n",
       "    </tr>\n",
       "    <tr>\n",
       "      <th>339</th>\n",
       "      <td>students/units/75/sub_units/268</td>\n",
       "      <td>1.0</td>\n",
       "      <td>212</td>\n",
       "    </tr>\n",
       "    <tr>\n",
       "      <th>340</th>\n",
       "      <td>toc</td>\n",
       "      <td>1.0</td>\n",
       "      <td>14103</td>\n",
       "    </tr>\n",
       "    <tr>\n",
       "      <th>341</th>\n",
       "      <td>uploads/5762c2946250b.jpg</td>\n",
       "      <td>1.0</td>\n",
       "      <td>75</td>\n",
       "    </tr>\n",
       "  </tbody>\n",
       "</table>\n",
       "<p>342 rows × 3 columns</p>\n",
       "</div>"
      ],
      "text/plain": [
       "                                path  cohort_id  user_id\n",
       "0                                  /        1.0    42115\n",
       "1        0_Classification_Algorithms        1.0      248\n",
       "2                    2.0_Intro_Stats        1.0      248\n",
       "3               5.0_Intro_Regression        1.0      496\n",
       "4               7.0_Intro_Clustering        1.0      496\n",
       "..                               ...        ...      ...\n",
       "337                     spring/setup        1.0     5127\n",
       "338                         students        1.0      316\n",
       "339  students/units/75/sub_units/268        1.0      212\n",
       "340                              toc        1.0    14103\n",
       "341        uploads/5762c2946250b.jpg        1.0       75\n",
       "\n",
       "[342 rows x 3 columns]"
      ]
     },
     "execution_count": 31,
     "metadata": {},
     "output_type": "execute_result"
    }
   ],
   "source": [
    "answer[['path', 'cohort_id', 'user_id']][answer.cohort_id == 1]"
   ]
  },
  {
   "cell_type": "code",
   "execution_count": 32,
   "id": "c7f35f96",
   "metadata": {},
   "outputs": [
    {
     "data": {
      "text/plain": [
       "28.0     84031\n",
       "33.0     40730\n",
       "29.0     38096\n",
       "62.0     37109\n",
       "53.0     36902\n",
       "24.0     35636\n",
       "57.0     33844\n",
       "56.0     33568\n",
       "51.0     32888\n",
       "59.0     32015\n",
       "22.0     30926\n",
       "58.0     29855\n",
       "32.0     29356\n",
       "23.0     28534\n",
       "52.0     28033\n",
       "26.0     27749\n",
       "34.0     26538\n",
       "25.0     25586\n",
       "31.0     25359\n",
       "132.0    23691\n",
       "55.0     21582\n",
       "27.0     20743\n",
       "61.0     17713\n",
       "134.0    16623\n",
       "135.0    16397\n",
       "133.0    14715\n",
       "14.0      9587\n",
       "1.0       8890\n",
       "137.0     8562\n",
       "21.0      7444\n",
       "138.0     7276\n",
       "17.0      4954\n",
       "13.0      2845\n",
       "18.0      2158\n",
       "8.0       1712\n",
       "139.0     1672\n",
       "19.0      1237\n",
       "16.0       755\n",
       "15.0       691\n",
       "7.0        598\n",
       "12.0       302\n",
       "11.0       253\n",
       "2.0         93\n",
       "6.0         72\n",
       "9.0          5\n",
       "4.0          4\n",
       "5.0          1\n",
       "Name: cohort_id, dtype: int64"
      ]
     },
     "execution_count": 32,
     "metadata": {},
     "output_type": "execute_result"
    }
   ],
   "source": [
    "df.cohort_id.value_counts()"
   ]
  },
  {
   "cell_type": "code",
   "execution_count": 33,
   "id": "5f138f06",
   "metadata": {},
   "outputs": [
    {
     "data": {
      "text/html": [
       "<div>\n",
       "<style scoped>\n",
       "    .dataframe tbody tr th:only-of-type {\n",
       "        vertical-align: middle;\n",
       "    }\n",
       "\n",
       "    .dataframe tbody tr th {\n",
       "        vertical-align: top;\n",
       "    }\n",
       "\n",
       "    .dataframe thead th {\n",
       "        text-align: right;\n",
       "    }\n",
       "</style>\n",
       "<table border=\"1\" class=\"dataframe\">\n",
       "  <thead>\n",
       "    <tr style=\"text-align: right;\">\n",
       "      <th></th>\n",
       "      <th>date</th>\n",
       "      <th>time</th>\n",
       "      <th>path</th>\n",
       "      <th>user_id</th>\n",
       "      <th>cohort_id</th>\n",
       "      <th>ip</th>\n",
       "      <th>name</th>\n",
       "      <th>start_date</th>\n",
       "      <th>end_date</th>\n",
       "      <th>created_at</th>\n",
       "      <th>updated_at</th>\n",
       "      <th>program_id</th>\n",
       "    </tr>\n",
       "  </thead>\n",
       "  <tbody>\n",
       "    <tr>\n",
       "      <th>0</th>\n",
       "      <td>2018-01-26</td>\n",
       "      <td>09:56:02</td>\n",
       "      <td>java-ii</td>\n",
       "      <td>1</td>\n",
       "      <td>8.0</td>\n",
       "      <td>97.105.19.61</td>\n",
       "      <td>Hampton</td>\n",
       "      <td>2015-09-22</td>\n",
       "      <td>2016-02-06</td>\n",
       "      <td>2016-06-14 19:52:26</td>\n",
       "      <td>2016-06-14 19:52:26</td>\n",
       "      <td>full_stack_java_php</td>\n",
       "    </tr>\n",
       "    <tr>\n",
       "      <th>1</th>\n",
       "      <td>2018-01-26</td>\n",
       "      <td>09:56:05</td>\n",
       "      <td>java-ii/object-oriented-programming</td>\n",
       "      <td>1</td>\n",
       "      <td>8.0</td>\n",
       "      <td>97.105.19.61</td>\n",
       "      <td>Hampton</td>\n",
       "      <td>2015-09-22</td>\n",
       "      <td>2016-02-06</td>\n",
       "      <td>2016-06-14 19:52:26</td>\n",
       "      <td>2016-06-14 19:52:26</td>\n",
       "      <td>full_stack_java_php</td>\n",
       "    </tr>\n",
       "    <tr>\n",
       "      <th>2</th>\n",
       "      <td>2018-01-26</td>\n",
       "      <td>09:56:06</td>\n",
       "      <td>slides/object_oriented_programming</td>\n",
       "      <td>1</td>\n",
       "      <td>8.0</td>\n",
       "      <td>97.105.19.61</td>\n",
       "      <td>Hampton</td>\n",
       "      <td>2015-09-22</td>\n",
       "      <td>2016-02-06</td>\n",
       "      <td>2016-06-14 19:52:26</td>\n",
       "      <td>2016-06-14 19:52:26</td>\n",
       "      <td>full_stack_java_php</td>\n",
       "    </tr>\n",
       "    <tr>\n",
       "      <th>3</th>\n",
       "      <td>2018-01-26</td>\n",
       "      <td>09:56:24</td>\n",
       "      <td>javascript-i/conditionals</td>\n",
       "      <td>2</td>\n",
       "      <td>22.0</td>\n",
       "      <td>97.105.19.61</td>\n",
       "      <td>Teddy</td>\n",
       "      <td>2018-01-08</td>\n",
       "      <td>2018-05-17</td>\n",
       "      <td>2018-01-08 13:59:10</td>\n",
       "      <td>2018-01-08 13:59:10</td>\n",
       "      <td>full_stack_java_java</td>\n",
       "    </tr>\n",
       "    <tr>\n",
       "      <th>4</th>\n",
       "      <td>2018-01-26</td>\n",
       "      <td>09:56:41</td>\n",
       "      <td>javascript-i/loops</td>\n",
       "      <td>2</td>\n",
       "      <td>22.0</td>\n",
       "      <td>97.105.19.61</td>\n",
       "      <td>Teddy</td>\n",
       "      <td>2018-01-08</td>\n",
       "      <td>2018-05-17</td>\n",
       "      <td>2018-01-08 13:59:10</td>\n",
       "      <td>2018-01-08 13:59:10</td>\n",
       "      <td>full_stack_java_java</td>\n",
       "    </tr>\n",
       "    <tr>\n",
       "      <th>...</th>\n",
       "      <td>...</td>\n",
       "      <td>...</td>\n",
       "      <td>...</td>\n",
       "      <td>...</td>\n",
       "      <td>...</td>\n",
       "      <td>...</td>\n",
       "      <td>...</td>\n",
       "      <td>...</td>\n",
       "      <td>...</td>\n",
       "      <td>...</td>\n",
       "      <td>...</td>\n",
       "      <td>...</td>\n",
       "    </tr>\n",
       "    <tr>\n",
       "      <th>900218</th>\n",
       "      <td>2021-04-21</td>\n",
       "      <td>16:42:02</td>\n",
       "      <td>jquery/mapbox-api</td>\n",
       "      <td>64</td>\n",
       "      <td>28.0</td>\n",
       "      <td>71.150.217.33</td>\n",
       "      <td>Staff</td>\n",
       "      <td>2014-02-04</td>\n",
       "      <td>2014-02-04</td>\n",
       "      <td>2018-12-06 17:04:19</td>\n",
       "      <td>2018-12-06 17:04:19</td>\n",
       "      <td>full_stack_java_java</td>\n",
       "    </tr>\n",
       "    <tr>\n",
       "      <th>900219</th>\n",
       "      <td>2021-04-21</td>\n",
       "      <td>16:42:09</td>\n",
       "      <td>jquery/ajax/weather-map</td>\n",
       "      <td>64</td>\n",
       "      <td>28.0</td>\n",
       "      <td>71.150.217.33</td>\n",
       "      <td>Staff</td>\n",
       "      <td>2014-02-04</td>\n",
       "      <td>2014-02-04</td>\n",
       "      <td>2018-12-06 17:04:19</td>\n",
       "      <td>2018-12-06 17:04:19</td>\n",
       "      <td>full_stack_java_java</td>\n",
       "    </tr>\n",
       "    <tr>\n",
       "      <th>900220</th>\n",
       "      <td>2021-04-21</td>\n",
       "      <td>16:44:37</td>\n",
       "      <td>anomaly-detection/discrete-probabilistic-methods</td>\n",
       "      <td>744</td>\n",
       "      <td>28.0</td>\n",
       "      <td>24.160.137.86</td>\n",
       "      <td>Staff</td>\n",
       "      <td>2014-02-04</td>\n",
       "      <td>2014-02-04</td>\n",
       "      <td>2018-12-06 17:04:19</td>\n",
       "      <td>2018-12-06 17:04:19</td>\n",
       "      <td>full_stack_java_java</td>\n",
       "    </tr>\n",
       "    <tr>\n",
       "      <th>900221</th>\n",
       "      <td>2021-04-21</td>\n",
       "      <td>16:44:39</td>\n",
       "      <td>jquery/mapbox-api</td>\n",
       "      <td>64</td>\n",
       "      <td>28.0</td>\n",
       "      <td>71.150.217.33</td>\n",
       "      <td>Staff</td>\n",
       "      <td>2014-02-04</td>\n",
       "      <td>2014-02-04</td>\n",
       "      <td>2018-12-06 17:04:19</td>\n",
       "      <td>2018-12-06 17:04:19</td>\n",
       "      <td>full_stack_java_java</td>\n",
       "    </tr>\n",
       "    <tr>\n",
       "      <th>900222</th>\n",
       "      <td>2018-01-26</td>\n",
       "      <td>09:55:03</td>\n",
       "      <td>/</td>\n",
       "      <td>1</td>\n",
       "      <td>8.0</td>\n",
       "      <td>97.105.19.61</td>\n",
       "      <td>Hampton</td>\n",
       "      <td>2015-09-22</td>\n",
       "      <td>2016-02-06</td>\n",
       "      <td>2016-06-14 19:52:26</td>\n",
       "      <td>2016-06-14 19:52:26</td>\n",
       "      <td>full_stack_java_php</td>\n",
       "    </tr>\n",
       "  </tbody>\n",
       "</table>\n",
       "<p>900223 rows × 12 columns</p>\n",
       "</div>"
      ],
      "text/plain": [
       "             date      time                                              path  \\\n",
       "0      2018-01-26  09:56:02                                           java-ii   \n",
       "1      2018-01-26  09:56:05               java-ii/object-oriented-programming   \n",
       "2      2018-01-26  09:56:06                slides/object_oriented_programming   \n",
       "3      2018-01-26  09:56:24                         javascript-i/conditionals   \n",
       "4      2018-01-26  09:56:41                                javascript-i/loops   \n",
       "...           ...       ...                                               ...   \n",
       "900218 2021-04-21  16:42:02                                 jquery/mapbox-api   \n",
       "900219 2021-04-21  16:42:09                           jquery/ajax/weather-map   \n",
       "900220 2021-04-21  16:44:37  anomaly-detection/discrete-probabilistic-methods   \n",
       "900221 2021-04-21  16:44:39                                 jquery/mapbox-api   \n",
       "900222 2018-01-26  09:55:03                                                 /   \n",
       "\n",
       "        user_id  cohort_id             ip     name start_date   end_date  \\\n",
       "0             1        8.0   97.105.19.61  Hampton 2015-09-22 2016-02-06   \n",
       "1             1        8.0   97.105.19.61  Hampton 2015-09-22 2016-02-06   \n",
       "2             1        8.0   97.105.19.61  Hampton 2015-09-22 2016-02-06   \n",
       "3             2       22.0   97.105.19.61    Teddy 2018-01-08 2018-05-17   \n",
       "4             2       22.0   97.105.19.61    Teddy 2018-01-08 2018-05-17   \n",
       "...         ...        ...            ...      ...        ...        ...   \n",
       "900218       64       28.0  71.150.217.33    Staff 2014-02-04 2014-02-04   \n",
       "900219       64       28.0  71.150.217.33    Staff 2014-02-04 2014-02-04   \n",
       "900220      744       28.0  24.160.137.86    Staff 2014-02-04 2014-02-04   \n",
       "900221       64       28.0  71.150.217.33    Staff 2014-02-04 2014-02-04   \n",
       "900222        1        8.0   97.105.19.61  Hampton 2015-09-22 2016-02-06   \n",
       "\n",
       "                created_at          updated_at            program_id  \n",
       "0      2016-06-14 19:52:26 2016-06-14 19:52:26   full_stack_java_php  \n",
       "1      2016-06-14 19:52:26 2016-06-14 19:52:26   full_stack_java_php  \n",
       "2      2016-06-14 19:52:26 2016-06-14 19:52:26   full_stack_java_php  \n",
       "3      2018-01-08 13:59:10 2018-01-08 13:59:10  full_stack_java_java  \n",
       "4      2018-01-08 13:59:10 2018-01-08 13:59:10  full_stack_java_java  \n",
       "...                    ...                 ...                   ...  \n",
       "900218 2018-12-06 17:04:19 2018-12-06 17:04:19  full_stack_java_java  \n",
       "900219 2018-12-06 17:04:19 2018-12-06 17:04:19  full_stack_java_java  \n",
       "900220 2018-12-06 17:04:19 2018-12-06 17:04:19  full_stack_java_java  \n",
       "900221 2018-12-06 17:04:19 2018-12-06 17:04:19  full_stack_java_java  \n",
       "900222 2016-06-14 19:52:26 2016-06-14 19:52:26   full_stack_java_php  \n",
       "\n",
       "[900223 rows x 12 columns]"
      ]
     },
     "execution_count": 33,
     "metadata": {},
     "output_type": "execute_result"
    }
   ],
   "source": [
    "df.path = df.path.dropna()\n",
    "df"
   ]
  },
  {
   "cell_type": "code",
   "execution_count": 34,
   "id": "80290c82",
   "metadata": {},
   "outputs": [
    {
     "data": {
      "text/plain": [
       "full_stack_java_java    713365\n",
       "datascience             103412\n",
       "full_stack_java_php      30548\n",
       "front_end_web_dev            5\n",
       "Name: program_id, dtype: int64"
      ]
     },
     "execution_count": 34,
     "metadata": {},
     "output_type": "execute_result"
    }
   ],
   "source": [
    "df.program_id.value_counts()"
   ]
  },
  {
   "cell_type": "code",
   "execution_count": 35,
   "id": "01b4e548",
   "metadata": {},
   "outputs": [],
   "source": [
    "program_1 = df[df.program_id == 'full_stack_java_php']\n",
    "program_2 = df[df.program_id == 'full_stack_java_java']\n",
    "program_3 = df[df.program_id == 'datascience']\n",
    "program_4 = df[df.program_id == 'front_end_web_dev']\n",
    "\n",
    "\n",
    "the_list = [program_1, program_2, program_3, program_4]"
   ]
  },
  {
   "cell_type": "code",
   "execution_count": 36,
   "id": "878e6b39",
   "metadata": {},
   "outputs": [
    {
     "data": {
      "text/html": [
       "<div>\n",
       "<style scoped>\n",
       "    .dataframe tbody tr th:only-of-type {\n",
       "        vertical-align: middle;\n",
       "    }\n",
       "\n",
       "    .dataframe tbody tr th {\n",
       "        vertical-align: top;\n",
       "    }\n",
       "\n",
       "    .dataframe thead th {\n",
       "        text-align: right;\n",
       "    }\n",
       "</style>\n",
       "<table border=\"1\" class=\"dataframe\">\n",
       "  <thead>\n",
       "    <tr style=\"text-align: right;\">\n",
       "      <th></th>\n",
       "      <th>date</th>\n",
       "      <th>time</th>\n",
       "      <th>path</th>\n",
       "      <th>user_id</th>\n",
       "      <th>cohort_id</th>\n",
       "      <th>ip</th>\n",
       "      <th>name</th>\n",
       "      <th>start_date</th>\n",
       "      <th>end_date</th>\n",
       "      <th>created_at</th>\n",
       "      <th>updated_at</th>\n",
       "      <th>program_id</th>\n",
       "    </tr>\n",
       "  </thead>\n",
       "  <tbody>\n",
       "    <tr>\n",
       "      <th>535517</th>\n",
       "      <td>2020-05-06</td>\n",
       "      <td>19:06:32</td>\n",
       "      <td>/</td>\n",
       "      <td>649</td>\n",
       "      <td>5.0</td>\n",
       "      <td>70.125.150.41</td>\n",
       "      <td>Everglades</td>\n",
       "      <td>2014-11-18</td>\n",
       "      <td>2015-02-24</td>\n",
       "      <td>2016-06-14 19:52:26</td>\n",
       "      <td>2016-06-14 19:52:26</td>\n",
       "      <td>full_stack_java_php</td>\n",
       "    </tr>\n",
       "  </tbody>\n",
       "</table>\n",
       "</div>"
      ],
      "text/plain": [
       "             date      time path  user_id  cohort_id             ip  \\\n",
       "535517 2020-05-06  19:06:32    /      649        5.0  70.125.150.41   \n",
       "\n",
       "              name start_date   end_date          created_at  \\\n",
       "535517  Everglades 2014-11-18 2015-02-24 2016-06-14 19:52:26   \n",
       "\n",
       "                updated_at           program_id  \n",
       "535517 2016-06-14 19:52:26  full_stack_java_php  "
      ]
     },
     "execution_count": 36,
     "metadata": {},
     "output_type": "execute_result"
    }
   ],
   "source": [
    "program_1[program_1.cohort_id == 5.0]"
   ]
  },
  {
   "cell_type": "code",
   "execution_count": 50,
   "id": "0ea3dcfc",
   "metadata": {
    "scrolled": true
   },
   "outputs": [
    {
     "name": "stdout",
     "output_type": "stream",
     "text": [
      "\n"
     ]
    }
   ],
   "source": [
    "list_of_most_viewed = []\n",
    "# print(list(set(j.cohort_id)))\n",
    "\n",
    "for j in the_list:\n",
    "    for i in list(set(j.cohort_id)):\n",
    "        \n",
    "        answer = j.groupby(by=[\"cohort_id\", 'path']).count()\n",
    "        answer = answer.reset_index()\n",
    "        answer.cohort_id.unique()\n",
    "#         print(j.program_id.unique()[0])\n",
    "        \n",
    "        if j.program_id.unique()[0] == 'front_end_web_dev':\n",
    "            answer = answer[answer.path.str.len() > 1]\n",
    "            answer = answer[answer.path.str.contains('/')]\n",
    "            answer = answer[answer.path.str.contains('.json') == False]\n",
    "            answer = answer[answer.path != 'content/php_ii/command-line']\n",
    "            answer = answer[answer.path != 'content/php_i']\n",
    "            answer = answer[answer.path != 'html-css/elements']\n",
    "            \n",
    "            \n",
    "#             print(answer.path)\n",
    "            print()\n",
    "#             print(answer)\n",
    "#             print(answer[['path', 'cohort_id', 'user_id']][answer.cohort_id == i].sort_values(by ='user_id').tail(1))\n",
    "            the_df = answer[['path', 'cohort_id', 'user_id']][answer.cohort_id == i].sort_values(by ='user_id').tail(1)\n",
    "#             print(len(the_df.path.unique()))\n",
    "            if len(the_df.path.unique()) == 1:\n",
    "#                 print(the_df.path.iloc[0])\n",
    "                list_of_most_viewed.append(the_df.path.iloc[0])"
   ]
  },
  {
   "cell_type": "code",
   "execution_count": 51,
   "id": "1b8b8efc",
   "metadata": {},
   "outputs": [
    {
     "data": {
      "text/plain": [
       "['content/html-css']"
      ]
     },
     "execution_count": 51,
     "metadata": {},
     "output_type": "execute_result"
    }
   ],
   "source": [
    "'content/php_ii/command-line'\n",
    "\n",
    "\n",
    "list_of_most_viewed"
   ]
  },
  {
   "cell_type": "code",
   "execution_count": 52,
   "id": "9b398364",
   "metadata": {},
   "outputs": [
    {
     "name": "stdout",
     "output_type": "stream",
     "text": [
      "content/html-css\n"
     ]
    },
    {
     "data": {
      "text/plain": [
       "{'content/html-css': 1}"
      ]
     },
     "execution_count": 52,
     "metadata": {},
     "output_type": "execute_result"
    }
   ],
   "source": [
    "the_dict = {}\n",
    "\n",
    "for i in list_of_most_viewed:\n",
    "    if i in the_dict:\n",
    "        the_dict[i] += 1\n",
    "    else:\n",
    "        the_dict[i] = 1\n",
    "max(the_dict.values())\n",
    "\n",
    "for key, values in the_dict.items():\n",
    "    if the_dict[key] == max(the_dict.values()):\n",
    "        print(key)\n",
    "        \n",
    "the_dict"
   ]
  },
  {
   "cell_type": "markdown",
   "id": "97475a6f",
   "metadata": {},
   "source": [
    "### 1. Which lesson appears to attract the most traffic consistently across cohorts (per program)?"
   ]
  },
  {
   "cell_type": "code",
   "execution_count": 53,
   "id": "1db46c8e",
   "metadata": {},
   "outputs": [],
   "source": [
    "# 'full_stack_java_php' = [content/html-css ,content/laravel/intro]\n",
    "# 'full_stack_java_java' = [mysql/tables]\n",
    "# 'datascience' = [1-fundamentals/modern-data-scientist.jpg, classification/scale_features_or_not.svg, fundamentals/modern-data-scientist.jpg, 6-regression/1-overview, classification/overview]\n",
    "# 'front_end_web_dev' = [content/html-css]"
   ]
  },
  {
   "cell_type": "markdown",
   "id": "6ada2218",
   "metadata": {},
   "source": [
    "### 2. Is there a cohort that referred to a lesson significantly more than other cohorts seemed to gloss over?"
   ]
  },
  {
   "cell_type": "code",
   "execution_count": 60,
   "id": "ddf586bc",
   "metadata": {},
   "outputs": [
    {
     "data": {
      "text/plain": [
       "Float64Index([ 28.0,  33.0,  29.0,  62.0,  53.0,  24.0,  57.0,  56.0,  51.0,\n",
       "               59.0,  22.0,  58.0,  32.0,  23.0,  52.0,  26.0,  34.0,  25.0,\n",
       "               31.0, 132.0,  55.0,  27.0,  61.0, 134.0, 135.0, 133.0,  14.0,\n",
       "                1.0, 137.0,  21.0, 138.0,  17.0,  13.0,  18.0,   8.0, 139.0,\n",
       "               19.0,  16.0,  15.0,   7.0,  12.0,  11.0,   2.0,   6.0,   9.0,\n",
       "                4.0,   5.0],\n",
       "             dtype='float64')"
      ]
     },
     "execution_count": 60,
     "metadata": {},
     "output_type": "execute_result"
    }
   ],
   "source": [
    "df.cohort_id.value_counts().index"
   ]
  },
  {
   "cell_type": "code",
   "execution_count": null,
   "id": "779ec7cd",
   "metadata": {},
   "outputs": [],
   "source": [
    "# program_1 = df[df.program_id == 'full_stack_java_php']\n",
    "# program_2 = df[df.program_id == 'full_stack_java_java']\n",
    "# program_3 = df[df.program_id == 'datascience']\n",
    "# program_4 = df[df.program_id == 'front_end_web_dev']\n",
    "\n",
    "\n",
    "# the_list = [program_1, program_2, program_3, program_4]"
   ]
  },
  {
   "cell_type": "code",
   "execution_count": 54,
   "id": "177ca8c0",
   "metadata": {},
   "outputs": [
    {
     "name": "stdout",
     "output_type": "stream",
     "text": [
      "\n"
     ]
    }
   ],
   "source": [
    "list_of_most_viewed = []\n",
    "# print(list(set(j.cohort_id)))\n",
    "\n",
    "for j in the_list:\n",
    "    for i in list(set(j.cohort_id)):\n",
    "        \n",
    "        answer = j.groupby(by=[\"cohort_id\", 'path']).count()\n",
    "        answer = answer.reset_index()\n",
    "        answer.cohort_id.unique()\n",
    "#         print(j.program_id.unique()[0])\n",
    "        \n",
    "        if j.program_id.unique()[0] == 'front_end_web_dev':\n",
    "            answer = answer[answer.path.str.len() > 1]\n",
    "            answer = answer[answer.path.str.contains('/')]\n",
    "            answer = answer[answer.path.str.contains('.json') == False]\n",
    "            answer = answer[answer.path != 'content/php_ii/command-line']\n",
    "            answer = answer[answer.path != 'content/php_i']\n",
    "            answer = answer[answer.path != 'html-css/elements']\n",
    "            \n",
    "            \n",
    "#             print(answer.path)\n",
    "            print()\n",
    "#             print(answer)\n",
    "#             print(answer[['path', 'cohort_id', 'user_id']][answer.cohort_id == i].sort_values(by ='user_id').tail(1))\n",
    "            the_df = answer[['path', 'cohort_id', 'user_id']][answer.cohort_id == i].sort_values(by ='user_id').tail(1)\n",
    "#             print(len(the_df.path.unique()))\n",
    "            if len(the_df.path.unique()) == 1:\n",
    "#                 print(the_df.path.iloc[0])\n",
    "                list_of_most_viewed.append(the_df.path.iloc[0])"
   ]
  },
  {
   "cell_type": "code",
   "execution_count": 55,
   "id": "ba524ff7",
   "metadata": {},
   "outputs": [
    {
     "data": {
      "text/plain": [
       "['content/html-css']"
      ]
     },
     "execution_count": 55,
     "metadata": {},
     "output_type": "execute_result"
    }
   ],
   "source": [
    "list_of_most_viewed"
   ]
  },
  {
   "cell_type": "code",
   "execution_count": 56,
   "id": "f08d88f8",
   "metadata": {},
   "outputs": [
    {
     "name": "stdout",
     "output_type": "stream",
     "text": [
      "content/html-css\n"
     ]
    },
    {
     "data": {
      "text/plain": [
       "{'content/html-css': 1}"
      ]
     },
     "execution_count": 56,
     "metadata": {},
     "output_type": "execute_result"
    }
   ],
   "source": [
    "the_dict = {}\n",
    "\n",
    "for i in list_of_most_viewed:\n",
    "    if i in the_dict:\n",
    "        the_dict[i] += 1\n",
    "    else:\n",
    "        the_dict[i] = 1\n",
    "max(the_dict.values())\n",
    "\n",
    "for key, values in the_dict.items():\n",
    "    if the_dict[key] == max(the_dict.values()):\n",
    "        print(key)\n",
    "        \n",
    "the_dict"
   ]
  },
  {
   "cell_type": "code",
   "execution_count": null,
   "id": "9d235d90",
   "metadata": {},
   "outputs": [],
   "source": []
  }
 ],
 "metadata": {
  "kernelspec": {
   "display_name": "Python 3 (ipykernel)",
   "language": "python",
   "name": "python3"
  },
  "language_info": {
   "codemirror_mode": {
    "name": "ipython",
    "version": 3
   },
   "file_extension": ".py",
   "mimetype": "text/x-python",
   "name": "python",
   "nbconvert_exporter": "python",
   "pygments_lexer": "ipython3",
   "version": "3.9.16"
  }
 },
 "nbformat": 4,
 "nbformat_minor": 5
}
