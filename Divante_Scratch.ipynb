{
 "cells": [
  {
   "cell_type": "code",
   "execution_count": 1,
   "id": "ab37e89e",
   "metadata": {},
   "outputs": [],
   "source": [
    "import pandas as pd\n",
    "import env\n",
    "import wrangle"
   ]
  },
  {
   "cell_type": "code",
   "execution_count": 2,
   "id": "1e22373f",
   "metadata": {},
   "outputs": [],
   "source": [
    "# df = pd.read_csv('anonymized-curriculum-access.txt', sep=\" \")"
   ]
  },
  {
   "cell_type": "code",
   "execution_count": 3,
   "id": "3d4e9330",
   "metadata": {},
   "outputs": [],
   "source": [
    "def acquire_logs(user=env.user, password=env.password, host=env.host):\n",
    "    '''\n",
    "    This function gathers curriculum_logs data from the \n",
    "    SQL codeup database and returns the information in a \n",
    "    pandas dataframe\n",
    "    '''\n",
    "    url = f'mysql+pymysql://{env.user}:{env.password}@{env.host}/curriculum_logs'\n",
    "    query = '''\n",
    "    select * from cohorts;\n",
    "    '''\n",
    "    df = pd.read_sql(query, url)\n",
    "    df.to_csv('cohorts.csv')"
   ]
  },
  {
   "cell_type": "code",
   "execution_count": 4,
   "id": "fb46e672",
   "metadata": {},
   "outputs": [],
   "source": [
    "# acquire_logs()"
   ]
  },
  {
   "cell_type": "code",
   "execution_count": 5,
   "id": "f392ab92",
   "metadata": {},
   "outputs": [],
   "source": [
    "# df_2 = pd.read_csv('cohorts.csv')"
   ]
  },
  {
   "cell_type": "code",
   "execution_count": 6,
   "id": "f0b804ff",
   "metadata": {},
   "outputs": [],
   "source": [
    "# df_2 = df_2.drop(columns ='Unnamed: 0')"
   ]
  },
  {
   "cell_type": "code",
   "execution_count": 7,
   "id": "5008b2dc",
   "metadata": {},
   "outputs": [],
   "source": [
    "# df.info()"
   ]
  },
  {
   "cell_type": "code",
   "execution_count": 8,
   "id": "b5b01d1b",
   "metadata": {},
   "outputs": [],
   "source": [
    "# df.loc[len(df.index)] = ['2018-01-26', '09:55:03', '/', 1, 8 , '97.105.19.61']\n",
    "# df.columns = ['date', 'time', 'path', 'user_id', 'cohort_id', 'ip']\n",
    "# df.tail()"
   ]
  },
  {
   "cell_type": "code",
   "execution_count": 9,
   "id": "d6c49634",
   "metadata": {
    "scrolled": true
   },
   "outputs": [],
   "source": [
    "# df_2"
   ]
  },
  {
   "cell_type": "code",
   "execution_count": 10,
   "id": "57462ef5",
   "metadata": {},
   "outputs": [],
   "source": [
    "# df.head()"
   ]
  },
  {
   "cell_type": "code",
   "execution_count": 11,
   "id": "8589ac6c",
   "metadata": {},
   "outputs": [],
   "source": [
    "# df.shape"
   ]
  },
  {
   "cell_type": "code",
   "execution_count": 12,
   "id": "121625e6",
   "metadata": {
    "scrolled": true
   },
   "outputs": [],
   "source": [
    "# df = df.merge(df_2, left_on='user_id', right_on='id')\n",
    "# df"
   ]
  },
  {
   "cell_type": "code",
   "execution_count": 13,
   "id": "766cca4f",
   "metadata": {},
   "outputs": [],
   "source": [
    "# df = df.drop(columns = 'id')\n"
   ]
  },
  {
   "cell_type": "code",
   "execution_count": 14,
   "id": "a8232127",
   "metadata": {},
   "outputs": [],
   "source": [
    "# df.deleted_at.value_counts()\n",
    "# df = df.drop(columns = 'deleted_at')"
   ]
  },
  {
   "cell_type": "code",
   "execution_count": 15,
   "id": "9fe0ee11",
   "metadata": {},
   "outputs": [],
   "source": [
    "# df.program_id.info()"
   ]
  },
  {
   "cell_type": "code",
   "execution_count": 16,
   "id": "1d989fe0",
   "metadata": {
    "scrolled": true
   },
   "outputs": [],
   "source": [
    "# df.info()"
   ]
  },
  {
   "cell_type": "code",
   "execution_count": 17,
   "id": "e525b61e",
   "metadata": {},
   "outputs": [],
   "source": [
    "# df.head()"
   ]
  },
  {
   "cell_type": "code",
   "execution_count": 18,
   "id": "7f386e10",
   "metadata": {},
   "outputs": [],
   "source": [
    "# df['date'] = pd.to_datetime( df['date'])\n",
    "# df['time'] = pd.to_datetime( df['time'])\n",
    "# df['start_date'] = pd.to_datetime( df['start_date'])\n",
    "# df['end_date'] = pd.to_datetime( df['end_date'])\n",
    "# df['created_at'] = pd.to_datetime( df['created_at'])\n",
    "# df['updated_at'] = pd.to_datetime( df['updated_at'])\n",
    "\n"
   ]
  },
  {
   "cell_type": "code",
   "execution_count": 19,
   "id": "2f71e0ab",
   "metadata": {},
   "outputs": [],
   "source": [
    "df = wrangle.get_data()"
   ]
  },
  {
   "cell_type": "code",
   "execution_count": 20,
   "id": "a1cab28b",
   "metadata": {},
   "outputs": [
    {
     "data": {
      "text/plain": [
       "1    37794\n",
       "2    31980\n",
       "3     2458\n",
       "4     1507\n",
       "Name: program_id, dtype: int64"
      ]
     },
     "execution_count": 20,
     "metadata": {},
     "output_type": "execute_result"
    }
   ],
   "source": [
    "df.program_id.value_counts()"
   ]
  },
  {
   "cell_type": "code",
   "execution_count": 21,
   "id": "459fee13",
   "metadata": {},
   "outputs": [
    {
     "data": {
      "text/plain": [
       "/                                                                                                                                                                                                                                                                          5056\n",
       "index.html                                                                                                                                                                                                                                                                 1520\n",
       "javascript-i                                                                                                                                                                                                                                                               1486\n",
       "spring                                                                                                                                                                                                                                                                     1401\n",
       "java-iii                                                                                                                                                                                                                                                                   1237\n",
       "                                                                                                                                                                                                                                                                           ... \n",
       "hand                                                                                                                                                                                                                                                                          1\n",
       "html-css/css-i/css-resets                                                                                                                                                                                                                                                     1\n",
       "students/643/This%20alumnus%20works%20for%20Appdiction%20Studios,%20as%20of%20this%20timestamp.%20This%20company%20is%20launching%20a%20bootcamp%20program%20in%20competition.%20For%20this%20reason,%20curriculum%20access%20is%20disabled%20until%20further%20notice.       1\n",
       "html-css/bootstrap-grid-system                                                                                                                                                                                                                                                1\n",
       "content/appendix/further-reading/javascript/hoisting.html                                                                                                                                                                                                                     1\n",
       "Name: path, Length: 1442, dtype: int64"
      ]
     },
     "execution_count": 21,
     "metadata": {},
     "output_type": "execute_result"
    }
   ],
   "source": [
    "df.path.value_counts()"
   ]
  },
  {
   "cell_type": "code",
   "execution_count": 22,
   "id": "08ef3bc9",
   "metadata": {
    "scrolled": false
   },
   "outputs": [
    {
     "name": "stderr",
     "output_type": "stream",
     "text": [
      "/var/folders/9q/9mllqnsn2vq07btq58zw9zzc0000gn/T/ipykernel_70333/1871299795.py:2: FutureWarning: The default value of numeric_only in DataFrameGroupBy.sum is deprecated. In a future version, numeric_only will default to False. Either specify numeric_only or select only columns which should be valid for the function.\n",
      "  answer = df.groupby(by=[\"cohort_id\", 'path']).sum()\n"
     ]
    }
   ],
   "source": [
    "# pd.set_option('display.max_rows', None)\n",
    "answer = df.groupby(by=[\"cohort_id\", 'path']).sum()"
   ]
  },
  {
   "cell_type": "code",
   "execution_count": 23,
   "id": "2a00e48b",
   "metadata": {},
   "outputs": [
    {
     "data": {
      "text/plain": [
       "array([ 1.,  8., 13., 14., 16., 18., 21., 22., 23., 28.])"
      ]
     },
     "execution_count": 23,
     "metadata": {},
     "output_type": "execute_result"
    }
   ],
   "source": [
    "answer = answer.reset_index()\n",
    "answer.cohort_id.unique()"
   ]
  },
  {
   "cell_type": "code",
   "execution_count": 24,
   "id": "8ed3b888",
   "metadata": {},
   "outputs": [
    {
     "data": {
      "text/html": [
       "<div>\n",
       "<style scoped>\n",
       "    .dataframe tbody tr th:only-of-type {\n",
       "        vertical-align: middle;\n",
       "    }\n",
       "\n",
       "    .dataframe tbody tr th {\n",
       "        vertical-align: top;\n",
       "    }\n",
       "\n",
       "    .dataframe thead th {\n",
       "        text-align: right;\n",
       "    }\n",
       "</style>\n",
       "<table border=\"1\" class=\"dataframe\">\n",
       "  <thead>\n",
       "    <tr style=\"text-align: right;\">\n",
       "      <th></th>\n",
       "      <th>path</th>\n",
       "      <th>cohort_id</th>\n",
       "      <th>user_id</th>\n",
       "    </tr>\n",
       "  </thead>\n",
       "  <tbody>\n",
       "    <tr>\n",
       "      <th>0</th>\n",
       "      <td>/</td>\n",
       "      <td>1.0</td>\n",
       "      <td>6507</td>\n",
       "    </tr>\n",
       "    <tr>\n",
       "      <th>1</th>\n",
       "      <td>appendix</td>\n",
       "      <td>1.0</td>\n",
       "      <td>658</td>\n",
       "    </tr>\n",
       "    <tr>\n",
       "      <th>2</th>\n",
       "      <td>appendix/angular</td>\n",
       "      <td>1.0</td>\n",
       "      <td>11</td>\n",
       "    </tr>\n",
       "    <tr>\n",
       "      <th>3</th>\n",
       "      <td>appendix/capstone-workbook</td>\n",
       "      <td>1.0</td>\n",
       "      <td>110</td>\n",
       "    </tr>\n",
       "    <tr>\n",
       "      <th>4</th>\n",
       "      <td>appendix/documentation</td>\n",
       "      <td>1.0</td>\n",
       "      <td>22</td>\n",
       "    </tr>\n",
       "    <tr>\n",
       "      <th>...</th>\n",
       "      <td>...</td>\n",
       "      <td>...</td>\n",
       "      <td>...</td>\n",
       "    </tr>\n",
       "    <tr>\n",
       "      <th>205</th>\n",
       "      <td>spring/fundamentals/services</td>\n",
       "      <td>1.0</td>\n",
       "      <td>187</td>\n",
       "    </tr>\n",
       "    <tr>\n",
       "      <th>206</th>\n",
       "      <td>spring/fundamentals/views</td>\n",
       "      <td>1.0</td>\n",
       "      <td>352</td>\n",
       "    </tr>\n",
       "    <tr>\n",
       "      <th>207</th>\n",
       "      <td>spring/setup</td>\n",
       "      <td>1.0</td>\n",
       "      <td>253</td>\n",
       "    </tr>\n",
       "    <tr>\n",
       "      <th>208</th>\n",
       "      <td>toc</td>\n",
       "      <td>1.0</td>\n",
       "      <td>66</td>\n",
       "    </tr>\n",
       "    <tr>\n",
       "      <th>209</th>\n",
       "      <td>uploads/5762c2946250b.jpg</td>\n",
       "      <td>1.0</td>\n",
       "      <td>11</td>\n",
       "    </tr>\n",
       "  </tbody>\n",
       "</table>\n",
       "<p>210 rows × 3 columns</p>\n",
       "</div>"
      ],
      "text/plain": [
       "                             path  cohort_id  user_id\n",
       "0                               /        1.0     6507\n",
       "1                        appendix        1.0      658\n",
       "2                appendix/angular        1.0       11\n",
       "3      appendix/capstone-workbook        1.0      110\n",
       "4          appendix/documentation        1.0       22\n",
       "..                            ...        ...      ...\n",
       "205  spring/fundamentals/services        1.0      187\n",
       "206     spring/fundamentals/views        1.0      352\n",
       "207                  spring/setup        1.0      253\n",
       "208                           toc        1.0       66\n",
       "209     uploads/5762c2946250b.jpg        1.0       11\n",
       "\n",
       "[210 rows x 3 columns]"
      ]
     },
     "execution_count": 24,
     "metadata": {},
     "output_type": "execute_result"
    }
   ],
   "source": [
    "answer[['path', 'cohort_id', 'user_id']][answer.cohort_id == 1]"
   ]
  },
  {
   "cell_type": "code",
   "execution_count": 43,
   "id": "c7f35f96",
   "metadata": {},
   "outputs": [
    {
     "data": {
      "text/plain": [
       "28.0    25097\n",
       "22.0    23840\n",
       "14.0     8401\n",
       "23.0     5612\n",
       "21.0     3413\n",
       "1.0      3252\n",
       "8.0      1617\n",
       "13.0      592\n",
       "18.0      474\n",
       "16.0      107\n",
       "Name: cohort_id, dtype: int64"
      ]
     },
     "execution_count": 43,
     "metadata": {},
     "output_type": "execute_result"
    }
   ],
   "source": [
    "df.cohort_id.value_counts()"
   ]
  },
  {
   "cell_type": "code",
   "execution_count": 39,
   "id": "20821d99",
   "metadata": {
    "scrolled": true
   },
   "outputs": [
    {
     "data": {
      "text/plain": [
       "28.0    20965\n",
       "22.0    12302\n",
       "1.0      2735\n",
       "8.0      1617\n",
       "21.0      175\n",
       "Name: cohort_id, dtype: int64"
      ]
     },
     "execution_count": 39,
     "metadata": {},
     "output_type": "execute_result"
    }
   ],
   "source": [
    "program_1.cohort_id.value_counts()"
   ]
  },
  {
   "cell_type": "code",
   "execution_count": 40,
   "id": "27790ee6",
   "metadata": {},
   "outputs": [
    {
     "data": {
      "text/plain": [
       "22.0    9047\n",
       "14.0    8401\n",
       "23.0    5207\n",
       "28.0    4132\n",
       "21.0    2221\n",
       "13.0     592\n",
       "1.0      517\n",
       "18.0     474\n",
       "16.0     107\n",
       "Name: cohort_id, dtype: int64"
      ]
     },
     "execution_count": 40,
     "metadata": {},
     "output_type": "execute_result"
    }
   ],
   "source": [
    "program_2.cohort_id.value_counts()"
   ]
  },
  {
   "cell_type": "code",
   "execution_count": 41,
   "id": "9d73cab0",
   "metadata": {},
   "outputs": [
    {
     "data": {
      "text/plain": [
       "22.0    1906\n",
       "23.0     405\n",
       "21.0      95\n",
       "Name: cohort_id, dtype: int64"
      ]
     },
     "execution_count": 41,
     "metadata": {},
     "output_type": "execute_result"
    }
   ],
   "source": [
    "program_3.cohort_id.value_counts()"
   ]
  },
  {
   "cell_type": "code",
   "execution_count": 42,
   "id": "f8b7dba3",
   "metadata": {},
   "outputs": [
    {
     "data": {
      "text/plain": [
       "21.0    922\n",
       "22.0    585\n",
       "Name: cohort_id, dtype: int64"
      ]
     },
     "execution_count": 42,
     "metadata": {},
     "output_type": "execute_result"
    }
   ],
   "source": [
    "program_4.cohort_id.value_counts()"
   ]
  },
  {
   "cell_type": "code",
   "execution_count": 45,
   "id": "890a53e5",
   "metadata": {},
   "outputs": [
    {
     "data": {
      "text/plain": [
       "1    37794\n",
       "2    31980\n",
       "3     2458\n",
       "4     1507\n",
       "Name: program_id, dtype: int64"
      ]
     },
     "execution_count": 45,
     "metadata": {},
     "output_type": "execute_result"
    }
   ],
   "source": [
    "df.program_id.value_counts()"
   ]
  },
  {
   "cell_type": "code",
   "execution_count": 25,
   "id": "01b4e548",
   "metadata": {},
   "outputs": [
    {
     "name": "stderr",
     "output_type": "stream",
     "text": [
      "/var/folders/9q/9mllqnsn2vq07btq58zw9zzc0000gn/T/ipykernel_70333/2339016063.py:8: FutureWarning: The default value of numeric_only in DataFrameGroupBy.sum is deprecated. In a future version, numeric_only will default to False. Either specify numeric_only or select only columns which should be valid for the function.\n",
      "  answer = df.groupby(by=[\"cohort_id\", 'path']).sum()\n"
     ]
    },
    {
     "data": {
      "text/plain": [
       "array([ 1.,  8., 13., 14., 16., 18., 21., 22., 23., 28.])"
      ]
     },
     "execution_count": 25,
     "metadata": {},
     "output_type": "execute_result"
    }
   ],
   "source": [
    "df.program_id.value_counts()\n",
    "program_1 = df[df.program_id == 1]\n",
    "program_2 = df[df.program_id == 2]\n",
    "program_3 = df[df.program_id == 3]\n",
    "program_4 = df[df.program_id == 4]\n",
    "the_list = [program_1,program_2,program_3,program_4]\n",
    "\n",
    "answer = df.groupby(by=[\"cohort_id\", 'path']).sum()\n",
    "answer = answer.reset_index()\n",
    "answer.cohort_id.unique()"
   ]
  },
  {
   "cell_type": "code",
   "execution_count": 48,
   "id": "0ea3dcfc",
   "metadata": {
    "scrolled": false
   },
   "outputs": [
    {
     "name": "stdout",
     "output_type": "stream",
     "text": [
      "program id 1.0\n",
      "\n",
      "                  path  cohort_id  user_id\n",
      "384              mysql        8.0       29\n",
      "363      javascript-ii        8.0       30\n",
      "341  java-iii/servlets        8.0       30\n",
      "345       javascript-i        8.0       35\n",
      "435             spring        8.0       41\n",
      "316             java-i        8.0       43\n",
      "324            java-ii        8.0       44\n",
      "334           java-iii        8.0       55\n",
      "216           appendix        8.0       55\n",
      "209                  /        8.0      202\n",
      "program id 1.0\n",
      "\n",
      "                                                   path  cohort_id  user_id\n",
      "850                1-fundamentals/AI-ML-DL-timeline.jpg       28.0      303\n",
      "852            1-fundamentals/modern-data-scientist.jpg       28.0      305\n",
      "870   10-anomaly-detection/AnomalyDetectionCartoon.jpeg       28.0      410\n",
      "858                     10-anomaly-detection/1-overview       28.0      410\n",
      "1810                           search/search_index.json       28.0      412\n",
      "1545           classification/scale_features_or_not.svg       28.0      441\n",
      "1216                            6-regression/1-overview       28.0      489\n",
      "1851                                 sql/mysql-overview       28.0      554\n",
      "1541                            classification/overview       28.0      584\n",
      "826                                                   /       28.0     2286\n",
      "program id 1.0\n",
      "\n",
      "                       path  cohort_id  user_id\n",
      "721  javascript-i/functions       22.0      189\n",
      "734           javascript-ii       22.0      229\n",
      "742                  jquery       22.0      237\n",
      "810                  spring       22.0      249\n",
      "758                   mysql       22.0      255\n",
      "683                  java-i       22.0      258\n",
      "690                 java-ii       22.0      264\n",
      "711            javascript-i       22.0      278\n",
      "701                java-iii       22.0      314\n",
      "521                       /       22.0      787\n",
      "program id 1.0\n",
      "\n",
      "                   path  cohort_id  user_id\n",
      "118  javascript-i/loops        1.0       42\n",
      "90             java-iii        1.0       49\n",
      "74               java-i        1.0       54\n",
      "129              jquery        1.0       54\n",
      "192              spring        1.0       72\n",
      "121       javascript-ii        1.0       84\n",
      "81              java-ii        1.0       85\n",
      "60             html-css        1.0      104\n",
      "100        javascript-i        1.0      150\n",
      "0                     /        1.0      237\n",
      "program id 1.0\n",
      "\n",
      "                                            path  cohort_id  user_id\n",
      "458                                     appendix       21.0        7\n",
      "518  spring/fundamentals/security/authentication       21.0        7\n",
      "519                 spring/fundamentals/services       21.0        8\n",
      "515            spring/fundamentals/relationships       21.0        8\n",
      "516             spring/fundamentals/repositories       21.0        8\n",
      "509                                       spring       21.0        9\n",
      "514       spring/fundamentals/form-model-binding       21.0        9\n",
      "513              spring/fundamentals/controllers       21.0       11\n",
      "520                    spring/fundamentals/views       21.0       11\n",
      "494                     mkdocs/search_index.json       21.0       12\n"
     ]
    }
   ],
   "source": [
    "for j in the_list:\n",
    "    for i in j.cohort_id.unique():\n",
    "        answer = j.groupby(by=[\"cohort_id\", 'path']).count()\n",
    "        answer = answer.reset_index()\n",
    "        answer.cohort_id.unique()\n",
    "        if j.program_id.mean() == 1:\n",
    "            print('program id', j.program_id.mean())\n",
    "            print()\n",
    "            print(answer[['path', 'cohort_id', 'user_id']][answer.cohort_id == i].sort_values(by ='user_id').tail(10))"
   ]
  },
  {
   "cell_type": "code",
   "execution_count": null,
   "id": "9b398364",
   "metadata": {},
   "outputs": [],
   "source": []
  }
 ],
 "metadata": {
  "kernelspec": {
   "display_name": "Python 3 (ipykernel)",
   "language": "python",
   "name": "python3"
  },
  "language_info": {
   "codemirror_mode": {
    "name": "ipython",
    "version": 3
   },
   "file_extension": ".py",
   "mimetype": "text/x-python",
   "name": "python",
   "nbconvert_exporter": "python",
   "pygments_lexer": "ipython3",
   "version": "3.9.16"
  }
 },
 "nbformat": 4,
 "nbformat_minor": 5
}
