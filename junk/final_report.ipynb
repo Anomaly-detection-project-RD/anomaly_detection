{
 "cells": [
  {
   "cell_type": "markdown",
   "id": "adcaa171",
   "metadata": {},
   "source": [
    "# Project Goal\n",
    "> ## To answer 5 of the 7 questions"
   ]
  },
  {
   "cell_type": "markdown",
   "id": "174ae170",
   "metadata": {},
   "source": [
    "# Initial Hypothesis\n",
    "> ## I believe we will not have enough time to come to an accurate conclusion"
   ]
  },
  {
   "cell_type": "markdown",
   "id": "934c8b1c",
   "metadata": {},
   "source": [
    "# Imports"
   ]
  },
  {
   "cell_type": "code",
   "execution_count": 1,
   "id": "ff47138b",
   "metadata": {},
   "outputs": [],
   "source": [
    "# list of my imports\n",
    "import pandas as pd\n",
    "from sklearn.model_selection import train_test_split\n",
    "import warnings\n",
    "warnings.filterwarnings(\"ignore\")\n",
    "from sklearn.cluster import KMeans\n",
    "from sklearn.preprocessing import MinMaxScaler\n",
    "import pandas as pd\n",
    "import wrangle\n",
    "import seaborn as sns\n",
    "import matplotlib.pyplot as plt\n",
    "import env\n",
    "import wrangle\n",
    "pd.set_option('display.width', 1000)"
   ]
  },
  {
   "cell_type": "markdown",
   "id": "4acdbe6f",
   "metadata": {},
   "source": [
    "# Acquire\n",
    "- Data acuired from the SQL database\n",
    "- Each row represents a unique login"
   ]
  },
  {
   "cell_type": "markdown",
   "id": "74d4805a",
   "metadata": {
    "jp-MarkdownHeadingCollapsed": true,
    "tags": []
   },
   "source": [
    "# Prepare \n",
    "\n",
    "- There are 900223 rows and 12 columns\n",
    "- converted columns that were objects that contained dates to datetime columns\n",
    "- We removed the null values from the path column\n",
    "- Verified datatypes"
   ]
  },
  {
   "cell_type": "code",
   "execution_count": 2,
   "id": "b63f6ae8",
   "metadata": {},
   "outputs": [],
   "source": [
    "df = wrangle.get_data()"
   ]
  },
  {
   "cell_type": "code",
   "execution_count": 3,
   "id": "55a4fa86",
   "metadata": {},
   "outputs": [
    {
     "data": {
      "text/html": [
       "<div>\n",
       "<style scoped>\n",
       "    .dataframe tbody tr th:only-of-type {\n",
       "        vertical-align: middle;\n",
       "    }\n",
       "\n",
       "    .dataframe tbody tr th {\n",
       "        vertical-align: top;\n",
       "    }\n",
       "\n",
       "    .dataframe thead th {\n",
       "        text-align: right;\n",
       "    }\n",
       "</style>\n",
       "<table border=\"1\" class=\"dataframe\">\n",
       "  <thead>\n",
       "    <tr style=\"text-align: right;\">\n",
       "      <th></th>\n",
       "      <th>date</th>\n",
       "      <th>time</th>\n",
       "      <th>path</th>\n",
       "      <th>user_id</th>\n",
       "      <th>cohort_id</th>\n",
       "      <th>ip</th>\n",
       "      <th>name</th>\n",
       "      <th>start_date</th>\n",
       "      <th>end_date</th>\n",
       "      <th>created_at</th>\n",
       "      <th>updated_at</th>\n",
       "      <th>program_id</th>\n",
       "    </tr>\n",
       "  </thead>\n",
       "  <tbody>\n",
       "    <tr>\n",
       "      <th>0</th>\n",
       "      <td>2018-01-26</td>\n",
       "      <td>09:56:02</td>\n",
       "      <td>java-ii</td>\n",
       "      <td>1</td>\n",
       "      <td>8.0</td>\n",
       "      <td>97.105.19.61</td>\n",
       "      <td>Hampton</td>\n",
       "      <td>2015-09-22</td>\n",
       "      <td>2016-02-06</td>\n",
       "      <td>2016-06-14 19:52:26</td>\n",
       "      <td>2016-06-14 19:52:26</td>\n",
       "      <td>full_stack_java_php</td>\n",
       "    </tr>\n",
       "    <tr>\n",
       "      <th>1</th>\n",
       "      <td>2018-01-26</td>\n",
       "      <td>09:56:05</td>\n",
       "      <td>java-ii/object-oriented-programming</td>\n",
       "      <td>1</td>\n",
       "      <td>8.0</td>\n",
       "      <td>97.105.19.61</td>\n",
       "      <td>Hampton</td>\n",
       "      <td>2015-09-22</td>\n",
       "      <td>2016-02-06</td>\n",
       "      <td>2016-06-14 19:52:26</td>\n",
       "      <td>2016-06-14 19:52:26</td>\n",
       "      <td>full_stack_java_php</td>\n",
       "    </tr>\n",
       "    <tr>\n",
       "      <th>2</th>\n",
       "      <td>2018-01-26</td>\n",
       "      <td>09:56:06</td>\n",
       "      <td>slides/object_oriented_programming</td>\n",
       "      <td>1</td>\n",
       "      <td>8.0</td>\n",
       "      <td>97.105.19.61</td>\n",
       "      <td>Hampton</td>\n",
       "      <td>2015-09-22</td>\n",
       "      <td>2016-02-06</td>\n",
       "      <td>2016-06-14 19:52:26</td>\n",
       "      <td>2016-06-14 19:52:26</td>\n",
       "      <td>full_stack_java_php</td>\n",
       "    </tr>\n",
       "    <tr>\n",
       "      <th>3</th>\n",
       "      <td>2018-01-26</td>\n",
       "      <td>09:56:24</td>\n",
       "      <td>javascript-i/conditionals</td>\n",
       "      <td>2</td>\n",
       "      <td>22.0</td>\n",
       "      <td>97.105.19.61</td>\n",
       "      <td>Teddy</td>\n",
       "      <td>2018-01-08</td>\n",
       "      <td>2018-05-17</td>\n",
       "      <td>2018-01-08 13:59:10</td>\n",
       "      <td>2018-01-08 13:59:10</td>\n",
       "      <td>full_stack_java_java</td>\n",
       "    </tr>\n",
       "    <tr>\n",
       "      <th>4</th>\n",
       "      <td>2018-01-26</td>\n",
       "      <td>09:56:41</td>\n",
       "      <td>javascript-i/loops</td>\n",
       "      <td>2</td>\n",
       "      <td>22.0</td>\n",
       "      <td>97.105.19.61</td>\n",
       "      <td>Teddy</td>\n",
       "      <td>2018-01-08</td>\n",
       "      <td>2018-05-17</td>\n",
       "      <td>2018-01-08 13:59:10</td>\n",
       "      <td>2018-01-08 13:59:10</td>\n",
       "      <td>full_stack_java_java</td>\n",
       "    </tr>\n",
       "  </tbody>\n",
       "</table>\n",
       "</div>"
      ],
      "text/plain": [
       "        date      time                                 path  user_id  cohort_id            ip     name start_date   end_date          created_at          updated_at            program_id\n",
       "0 2018-01-26  09:56:02                              java-ii        1        8.0  97.105.19.61  Hampton 2015-09-22 2016-02-06 2016-06-14 19:52:26 2016-06-14 19:52:26   full_stack_java_php\n",
       "1 2018-01-26  09:56:05  java-ii/object-oriented-programming        1        8.0  97.105.19.61  Hampton 2015-09-22 2016-02-06 2016-06-14 19:52:26 2016-06-14 19:52:26   full_stack_java_php\n",
       "2 2018-01-26  09:56:06   slides/object_oriented_programming        1        8.0  97.105.19.61  Hampton 2015-09-22 2016-02-06 2016-06-14 19:52:26 2016-06-14 19:52:26   full_stack_java_php\n",
       "3 2018-01-26  09:56:24            javascript-i/conditionals        2       22.0  97.105.19.61    Teddy 2018-01-08 2018-05-17 2018-01-08 13:59:10 2018-01-08 13:59:10  full_stack_java_java\n",
       "4 2018-01-26  09:56:41                   javascript-i/loops        2       22.0  97.105.19.61    Teddy 2018-01-08 2018-05-17 2018-01-08 13:59:10 2018-01-08 13:59:10  full_stack_java_java"
      ]
     },
     "execution_count": 3,
     "metadata": {},
     "output_type": "execute_result"
    }
   ],
   "source": [
    "df.head()"
   ]
  },
  {
   "cell_type": "code",
   "execution_count": 4,
   "id": "90037de4",
   "metadata": {},
   "outputs": [
    {
     "data": {
      "text/html": [
       "<div>\n",
       "<style scoped>\n",
       "    .dataframe tbody tr th:only-of-type {\n",
       "        vertical-align: middle;\n",
       "    }\n",
       "\n",
       "    .dataframe tbody tr th {\n",
       "        vertical-align: top;\n",
       "    }\n",
       "\n",
       "    .dataframe thead th {\n",
       "        text-align: right;\n",
       "    }\n",
       "</style>\n",
       "<table border=\"1\" class=\"dataframe\">\n",
       "  <thead>\n",
       "    <tr style=\"text-align: right;\">\n",
       "      <th></th>\n",
       "      <th>count</th>\n",
       "      <th>mean</th>\n",
       "      <th>std</th>\n",
       "      <th>min</th>\n",
       "      <th>25%</th>\n",
       "      <th>50%</th>\n",
       "      <th>75%</th>\n",
       "      <th>max</th>\n",
       "    </tr>\n",
       "  </thead>\n",
       "  <tbody>\n",
       "    <tr>\n",
       "      <th>user_id</th>\n",
       "      <td>900223.0</td>\n",
       "      <td>458.825707</td>\n",
       "      <td>249.296767</td>\n",
       "      <td>1.0</td>\n",
       "      <td>269.0</td>\n",
       "      <td>475.0</td>\n",
       "      <td>660.0</td>\n",
       "      <td>981.0</td>\n",
       "    </tr>\n",
       "    <tr>\n",
       "      <th>cohort_id</th>\n",
       "      <td>847330.0</td>\n",
       "      <td>48.501049</td>\n",
       "      <td>32.795482</td>\n",
       "      <td>1.0</td>\n",
       "      <td>28.0</td>\n",
       "      <td>33.0</td>\n",
       "      <td>57.0</td>\n",
       "      <td>139.0</td>\n",
       "    </tr>\n",
       "  </tbody>\n",
       "</table>\n",
       "</div>"
      ],
      "text/plain": [
       "              count        mean         std  min    25%    50%    75%    max\n",
       "user_id    900223.0  458.825707  249.296767  1.0  269.0  475.0  660.0  981.0\n",
       "cohort_id  847330.0   48.501049   32.795482  1.0   28.0   33.0   57.0  139.0"
      ]
     },
     "execution_count": 4,
     "metadata": {},
     "output_type": "execute_result"
    }
   ],
   "source": [
    "df.describe().T"
   ]
  },
  {
   "cell_type": "markdown",
   "id": "cae82af3",
   "metadata": {},
   "source": [
    "### 1. Which lesson appears to attract the most traffic consistently across cohorts (per program)?\n",
    "\n",
    "### Full_stack_java_php : content/html-css and content/laravel/intro\n",
    "\n",
    "### Full_stack_java_java : mysql/tables\n",
    "\n",
    "### Datascience : 1-fundamentals/modern-data-scientist.jpg, classification/scale_features_or_not.svg, fundamentals/modern-data-scientist.jpg, 6-regression/1-overview, classification/overview\n",
    "\n",
    "### Front_end_web_dev : content/html-css"
   ]
  },
  {
   "cell_type": "code",
   "execution_count": 5,
   "id": "32938653",
   "metadata": {},
   "outputs": [
    {
     "data": {
      "text/html": [
       "<div>\n",
       "<style scoped>\n",
       "    .dataframe tbody tr th:only-of-type {\n",
       "        vertical-align: middle;\n",
       "    }\n",
       "\n",
       "    .dataframe tbody tr th {\n",
       "        vertical-align: top;\n",
       "    }\n",
       "\n",
       "    .dataframe thead th {\n",
       "        text-align: right;\n",
       "    }\n",
       "</style>\n",
       "<table border=\"1\" class=\"dataframe\">\n",
       "  <thead>\n",
       "    <tr style=\"text-align: right;\">\n",
       "      <th></th>\n",
       "      <th>program</th>\n",
       "      <th>page</th>\n",
       "    </tr>\n",
       "  </thead>\n",
       "  <tbody>\n",
       "    <tr>\n",
       "      <th>0</th>\n",
       "      <td>full_stack_java_php</td>\n",
       "      <td>['content/html-css', 'content/laravel/intro']</td>\n",
       "    </tr>\n",
       "    <tr>\n",
       "      <th>0</th>\n",
       "      <td>full_stack_java_java</td>\n",
       "      <td>['mysql/tables']</td>\n",
       "    </tr>\n",
       "    <tr>\n",
       "      <th>0</th>\n",
       "      <td>datascience</td>\n",
       "      <td>['1-fundamentals/modern-data-scientist.jpg', '...</td>\n",
       "    </tr>\n",
       "    <tr>\n",
       "      <th>0</th>\n",
       "      <td>front_end_web_dev</td>\n",
       "      <td>['content/html-css']</td>\n",
       "    </tr>\n",
       "  </tbody>\n",
       "</table>\n",
       "</div>"
      ],
      "text/plain": [
       "                program                                               page\n",
       "0   full_stack_java_php      ['content/html-css', 'content/laravel/intro']\n",
       "0  full_stack_java_java                                   ['mysql/tables']\n",
       "0           datascience  ['1-fundamentals/modern-data-scientist.jpg', '...\n",
       "0     front_end_web_dev                               ['content/html-css']"
      ]
     },
     "execution_count": 5,
     "metadata": {},
     "output_type": "execute_result"
    }
   ],
   "source": [
    "wrangle.question_one(df)"
   ]
  },
  {
   "cell_type": "markdown",
   "id": "e68881ac",
   "metadata": {},
   "source": [
    "### 2. Is there a cohort that referred to a lesson significantly more than other cohorts seemed to gloss over?"
   ]
  },
  {
   "cell_type": "markdown",
   "id": "543c62c0",
   "metadata": {},
   "source": [
    "### full_stack_java_php : cohort 14 : spring/fundamentals/repositories\n",
    "\n",
    "### full_stack_java_java:  cohort 28 :  jquery/ajax/weather-map\n",
    "\n",
    "### datascience: cohort 59 : classification/overview\n",
    "\n",
    "### Front_end_web_dev : only had one cohort"
   ]
  },
  {
   "cell_type": "code",
   "execution_count": 6,
   "id": "f10fcbe3",
   "metadata": {},
   "outputs": [
    {
     "data": {
      "text/html": [
       "<div>\n",
       "<style scoped>\n",
       "    .dataframe tbody tr th:only-of-type {\n",
       "        vertical-align: middle;\n",
       "    }\n",
       "\n",
       "    .dataframe tbody tr th {\n",
       "        vertical-align: top;\n",
       "    }\n",
       "\n",
       "    .dataframe thead th {\n",
       "        text-align: right;\n",
       "    }\n",
       "</style>\n",
       "<table border=\"1\" class=\"dataframe\">\n",
       "  <thead>\n",
       "    <tr style=\"text-align: right;\">\n",
       "      <th></th>\n",
       "      <th>path</th>\n",
       "      <th>cohort_id</th>\n",
       "      <th>user_id</th>\n",
       "      <th>cohort</th>\n",
       "      <th>program</th>\n",
       "    </tr>\n",
       "  </thead>\n",
       "  <tbody>\n",
       "    <tr>\n",
       "      <th>1888</th>\n",
       "      <td>spring/fundamentals/repositories</td>\n",
       "      <td>14.0</td>\n",
       "      <td>115</td>\n",
       "      <td>Lassen</td>\n",
       "      <td>full_stack_java_php</td>\n",
       "    </tr>\n",
       "    <tr>\n",
       "      <th>4506</th>\n",
       "      <td>jquery/ajax/weather-map</td>\n",
       "      <td>28.0</td>\n",
       "      <td>1050</td>\n",
       "      <td>Staff</td>\n",
       "      <td>full_stack_java_java</td>\n",
       "    </tr>\n",
       "    <tr>\n",
       "      <th>1169</th>\n",
       "      <td>classification/overview</td>\n",
       "      <td>59.0</td>\n",
       "      <td>1109</td>\n",
       "      <td>Darden</td>\n",
       "      <td>datascience</td>\n",
       "    </tr>\n",
       "  </tbody>\n",
       "</table>\n",
       "</div>"
      ],
      "text/plain": [
       "                                  path  cohort_id  user_id  cohort               program\n",
       "1888  spring/fundamentals/repositories       14.0      115  Lassen   full_stack_java_php\n",
       "4506           jquery/ajax/weather-map       28.0     1050   Staff  full_stack_java_java\n",
       "1169           classification/overview       59.0     1109  Darden           datascience"
      ]
     },
     "execution_count": 6,
     "metadata": {},
     "output_type": "execute_result"
    }
   ],
   "source": [
    "wrangle.question_two(df)"
   ]
  },
  {
   "cell_type": "markdown",
   "id": "f7a07476",
   "metadata": {},
   "source": [
    "# 7. Which lessons are least accessed?\n",
    "\n",
    "### Front_end_web_dev : content/html-css/gitbook/images/favicon.ico\n",
    "\n",
    "### Datascience : %20https://github.com/RaulCPena\n",
    "\n",
    "### Full_stack_java_java : content/loops.html\n",
    "\n",
    "### Full_stack_java_php: content/loops.html"
   ]
  },
  {
   "cell_type": "code",
   "execution_count": 7,
   "id": "6ffda13d",
   "metadata": {
    "scrolled": true
   },
   "outputs": [
    {
     "data": {
      "text/html": [
       "<div>\n",
       "<style scoped>\n",
       "    .dataframe tbody tr th:only-of-type {\n",
       "        vertical-align: middle;\n",
       "    }\n",
       "\n",
       "    .dataframe tbody tr th {\n",
       "        vertical-align: top;\n",
       "    }\n",
       "\n",
       "    .dataframe thead th {\n",
       "        text-align: right;\n",
       "    }\n",
       "</style>\n",
       "<table border=\"1\" class=\"dataframe\">\n",
       "  <thead>\n",
       "    <tr style=\"text-align: right;\">\n",
       "      <th></th>\n",
       "      <th>path</th>\n",
       "      <th>program</th>\n",
       "      <th>count</th>\n",
       "    </tr>\n",
       "  </thead>\n",
       "  <tbody>\n",
       "    <tr>\n",
       "      <th>323</th>\n",
       "      <td>content/loops.html</td>\n",
       "      <td>full_stack_java_php</td>\n",
       "      <td>1</td>\n",
       "    </tr>\n",
       "    <tr>\n",
       "      <th>323</th>\n",
       "      <td>content/loops.html</td>\n",
       "      <td>full_stack_java_php</td>\n",
       "      <td>1</td>\n",
       "    </tr>\n",
       "    <tr>\n",
       "      <th>0</th>\n",
       "      <td>%20https://github.com/RaulCPena</td>\n",
       "      <td>datascience</td>\n",
       "      <td>1</td>\n",
       "    </tr>\n",
       "    <tr>\n",
       "      <th>2</th>\n",
       "      <td>content/html-css/gitbook/images/favicon.ico</td>\n",
       "      <td>front_end_web_dev</td>\n",
       "      <td>1</td>\n",
       "    </tr>\n",
       "  </tbody>\n",
       "</table>\n",
       "</div>"
      ],
      "text/plain": [
       "                                            path              program  count\n",
       "323                           content/loops.html  full_stack_java_php      1\n",
       "323                           content/loops.html  full_stack_java_php      1\n",
       "0                %20https://github.com/RaulCPena          datascience      1\n",
       "2    content/html-css/gitbook/images/favicon.ico    front_end_web_dev      1"
      ]
     },
     "execution_count": 7,
     "metadata": {},
     "output_type": "execute_result"
    }
   ],
   "source": [
    "wrangle.question_three(df)"
   ]
  },
  {
   "cell_type": "markdown",
   "id": "c5f8ccea",
   "metadata": {},
   "source": [
    "# Conclusion\n",
    "> There was not sufficent time to evaluate the different file path names to determine if they were a lesson make this sound better\n",
    "\n",
    "> There is suspicious activity, such as users/machines/etc accessing the curriculum who shouldn’t be. \n",
    "\n",
    "> We can infer that certain lessons within the Full_stack_java_php, Full_stack_java_java, Datascience, and Front_end_web_dev categories are consistently popular or require more attention. \n",
    "\n",
    "> Students Hardly Accessing Curriculum: User 11 accessed the curriculum 17,913 times, while users 53 and 64 accessed it 12,329 and 16,322 times, respectively.\n",
    "\n",
    "> Suspicious Activity: User 11 accessed the curriculum 17,913 times, while users 53 and 64 accessed it 12,329 and 16,322 times, respectively, indicating potential unauthorized access.\n",
    "\n",
    "> Cross-Program Access: Users 37 and 53 accessed both Program 1 and Program 2, indicating engagement across multiple curriculums.\n",
    "\n",
    "> Grad Referenced Topics: Post-graduation, graduates consistently refer to topics like '/', '1-fundamentals/1.1-intro-to-data-science', '1-fundamentals/AI-ML-DL-timeline.jpg', '1-fundamentals/modern-data-scientist.jpg', and '1-fundamentals/1.2-data-science-pipeline', emphasizing their ongoing relevance.\n",
    "\n",
    "> Least Accessed Lessons: Cohort-specific analysis highlights specific lessons that have been least accessed by certain cohorts.\n",
    "\n",
    "> No Negative Cohort IDs: The 'cohort_id' column contains no negative values, ensuring data integrity and absence of errors.\n",
    "\n",
    "> * Incomplete evaluation of file path names due to time constraints.\n",
    "> * Suspicious activity detected, indicating potential unauthorized access.\n",
    "> * Certain lessons in Full_stack_java_php, Full_stack_java_java, Datascience, and Front_end_web_dev require more > > * attention or are consistently popular.\n",
    "> * Low student engagement: User 11 accessed the curriculum 17,913 times, users 53 and 64 accessed it 12,329 and > > * 16,322 times, respectively.\n",
    "> * Cross-program access observed: Users 37 and 53 engaged with both Program 1 and Program 2.\n",
    "> * Graduates frequently reference topics indicating ongoing relevance.\n",
    "> * Least accessed lessons identified through cohort-specific analysis.\n",
    "> * Data integrity maintained with absence of negative values in the 'cohort_id' column.\n",
    "\n",
    "\n",
    "\n"
   ]
  },
  {
   "cell_type": "markdown",
   "id": "c8b105a0",
   "metadata": {},
   "source": [
    "# Recommendations\n",
    "> * Enhance visibility of least accessed lessons\n",
    "> * Investigate and address suspicious activity\n",
    "> * Foster cross-program collaboration\n",
    "> * Continuously update referenced topics for graduates\n",
    "> * Address low engagement cohorts\n",
    "> * Maintain data integrity with 'cohort_id' column\n"
   ]
  },
  {
   "cell_type": "markdown",
   "id": "c39b16ef",
   "metadata": {},
   "source": [
    "# Next Steps\n",
    "> * Reach out to subject matter experts who possess knowledge of the curriculum or lesson content. Share the file path names with them and seek their input in identifying any patterns, keywords, or indicators of lesson relevance.\n",
    " \n",
    "> * Explore existing automated tools or scripts that can assist in analyzing file path names. Research the available options, select the most suitable tool for your needs, and implement it within your evaluation process. Test the tool's effectiveness and fine-tune its parameters if necessary.\n",
    "\n",
    "> * Enhance visibility of least accessed lessons\n",
    "> * Investigate and address suspicious activity\n",
    "> * Foster cross-program collaboration\n",
    "> * Continuously update referenced topics for graduates\n",
    "> * Address low engagement cohorts\n",
    "> * Maintain data integrity with 'cohort_id' column\n",
    "\n",
    "\n",
    "\n"
   ]
  }
 ],
 "metadata": {
  "kernelspec": {
   "display_name": "Python 3 (ipykernel)",
   "language": "python",
   "name": "python3"
  },
  "language_info": {
   "codemirror_mode": {
    "name": "ipython",
    "version": 3
   },
   "file_extension": ".py",
   "mimetype": "text/x-python",
   "name": "python",
   "nbconvert_exporter": "python",
   "pygments_lexer": "ipython3",
   "version": "3.9.13"
  }
 },
 "nbformat": 4,
 "nbformat_minor": 5
}
