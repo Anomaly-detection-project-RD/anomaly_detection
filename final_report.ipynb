{
 "cells": [
  {
   "cell_type": "markdown",
   "id": "adcaa171",
   "metadata": {},
   "source": [
    "# Project Goal\n",
    "> ## To answer 5 of the 7 questions"
   ]
  },
  {
   "cell_type": "markdown",
   "id": "174ae170",
   "metadata": {},
   "source": [
    "# Initial Hypothesis\n",
    "> ## I believe we will not have enough time to come to an accurate conclusion"
   ]
  },
  {
   "cell_type": "markdown",
   "id": "934c8b1c",
   "metadata": {},
   "source": [
    "# Imports"
   ]
  },
  {
   "cell_type": "code",
   "execution_count": 1,
   "id": "ff47138b",
   "metadata": {},
   "outputs": [],
   "source": [
    "# list of my imports\n",
    "import pandas as pd\n",
    "from sklearn.model_selection import train_test_split\n",
    "import warnings\n",
    "warnings.filterwarnings(\"ignore\")\n",
    "from sklearn.cluster import KMeans\n",
    "from sklearn.preprocessing import MinMaxScaler\n",
    "import pandas as pd\n",
    "import wrangle\n",
    "import seaborn as sns\n",
    "import matplotlib.pyplot as plt\n",
    "import env\n",
    "import wrangle\n",
    "pd.set_option('display.width', 1000)"
   ]
  },
  {
   "cell_type": "markdown",
   "id": "4acdbe6f",
   "metadata": {},
   "source": [
    "# Acquire\n",
    "- Data acuired from the SQL database\n",
    "- Each row represents a unique login"
   ]
  },
  {
   "cell_type": "markdown",
   "id": "74d4805a",
   "metadata": {},
   "source": [
    "# Prepare \n",
    "\n",
    "- There are 900223 rows and 12 columns\n",
    "- converted columns that were objects that contained dates to datetime columns\n",
    "- We removed the null values from the path column\n",
    "- Verified datatypes"
   ]
  },
  {
   "cell_type": "code",
   "execution_count": 2,
   "id": "b63f6ae8",
   "metadata": {},
   "outputs": [],
   "source": [
    "df = wrangle.get_data()"
   ]
  },
  {
   "cell_type": "code",
   "execution_count": 3,
   "id": "55a4fa86",
   "metadata": {},
   "outputs": [
    {
     "data": {
      "text/html": [
       "<div>\n",
       "<style scoped>\n",
       "    .dataframe tbody tr th:only-of-type {\n",
       "        vertical-align: middle;\n",
       "    }\n",
       "\n",
       "    .dataframe tbody tr th {\n",
       "        vertical-align: top;\n",
       "    }\n",
       "\n",
       "    .dataframe thead th {\n",
       "        text-align: right;\n",
       "    }\n",
       "</style>\n",
       "<table border=\"1\" class=\"dataframe\">\n",
       "  <thead>\n",
       "    <tr style=\"text-align: right;\">\n",
       "      <th></th>\n",
       "      <th>date</th>\n",
       "      <th>time</th>\n",
       "      <th>path</th>\n",
       "      <th>user_id</th>\n",
       "      <th>cohort_id</th>\n",
       "      <th>ip</th>\n",
       "      <th>name</th>\n",
       "      <th>start_date</th>\n",
       "      <th>end_date</th>\n",
       "      <th>created_at</th>\n",
       "      <th>updated_at</th>\n",
       "      <th>program_id</th>\n",
       "    </tr>\n",
       "  </thead>\n",
       "  <tbody>\n",
       "    <tr>\n",
       "      <th>0</th>\n",
       "      <td>2018-01-26</td>\n",
       "      <td>09:56:02</td>\n",
       "      <td>java-ii</td>\n",
       "      <td>1</td>\n",
       "      <td>8.0</td>\n",
       "      <td>97.105.19.61</td>\n",
       "      <td>Hampton</td>\n",
       "      <td>2015-09-22</td>\n",
       "      <td>2016-02-06</td>\n",
       "      <td>2016-06-14 19:52:26</td>\n",
       "      <td>2016-06-14 19:52:26</td>\n",
       "      <td>full_stack_java_php</td>\n",
       "    </tr>\n",
       "    <tr>\n",
       "      <th>1</th>\n",
       "      <td>2018-01-26</td>\n",
       "      <td>09:56:05</td>\n",
       "      <td>java-ii/object-oriented-programming</td>\n",
       "      <td>1</td>\n",
       "      <td>8.0</td>\n",
       "      <td>97.105.19.61</td>\n",
       "      <td>Hampton</td>\n",
       "      <td>2015-09-22</td>\n",
       "      <td>2016-02-06</td>\n",
       "      <td>2016-06-14 19:52:26</td>\n",
       "      <td>2016-06-14 19:52:26</td>\n",
       "      <td>full_stack_java_php</td>\n",
       "    </tr>\n",
       "    <tr>\n",
       "      <th>2</th>\n",
       "      <td>2018-01-26</td>\n",
       "      <td>09:56:06</td>\n",
       "      <td>slides/object_oriented_programming</td>\n",
       "      <td>1</td>\n",
       "      <td>8.0</td>\n",
       "      <td>97.105.19.61</td>\n",
       "      <td>Hampton</td>\n",
       "      <td>2015-09-22</td>\n",
       "      <td>2016-02-06</td>\n",
       "      <td>2016-06-14 19:52:26</td>\n",
       "      <td>2016-06-14 19:52:26</td>\n",
       "      <td>full_stack_java_php</td>\n",
       "    </tr>\n",
       "    <tr>\n",
       "      <th>3</th>\n",
       "      <td>2018-01-26</td>\n",
       "      <td>09:56:24</td>\n",
       "      <td>javascript-i/conditionals</td>\n",
       "      <td>2</td>\n",
       "      <td>22.0</td>\n",
       "      <td>97.105.19.61</td>\n",
       "      <td>Teddy</td>\n",
       "      <td>2018-01-08</td>\n",
       "      <td>2018-05-17</td>\n",
       "      <td>2018-01-08 13:59:10</td>\n",
       "      <td>2018-01-08 13:59:10</td>\n",
       "      <td>full_stack_java_java</td>\n",
       "    </tr>\n",
       "    <tr>\n",
       "      <th>4</th>\n",
       "      <td>2018-01-26</td>\n",
       "      <td>09:56:41</td>\n",
       "      <td>javascript-i/loops</td>\n",
       "      <td>2</td>\n",
       "      <td>22.0</td>\n",
       "      <td>97.105.19.61</td>\n",
       "      <td>Teddy</td>\n",
       "      <td>2018-01-08</td>\n",
       "      <td>2018-05-17</td>\n",
       "      <td>2018-01-08 13:59:10</td>\n",
       "      <td>2018-01-08 13:59:10</td>\n",
       "      <td>full_stack_java_java</td>\n",
       "    </tr>\n",
       "  </tbody>\n",
       "</table>\n",
       "</div>"
      ],
      "text/plain": [
       "        date      time                                 path  user_id  cohort_id            ip     name start_date   end_date          created_at          updated_at            program_id\n",
       "0 2018-01-26  09:56:02                              java-ii        1        8.0  97.105.19.61  Hampton 2015-09-22 2016-02-06 2016-06-14 19:52:26 2016-06-14 19:52:26   full_stack_java_php\n",
       "1 2018-01-26  09:56:05  java-ii/object-oriented-programming        1        8.0  97.105.19.61  Hampton 2015-09-22 2016-02-06 2016-06-14 19:52:26 2016-06-14 19:52:26   full_stack_java_php\n",
       "2 2018-01-26  09:56:06   slides/object_oriented_programming        1        8.0  97.105.19.61  Hampton 2015-09-22 2016-02-06 2016-06-14 19:52:26 2016-06-14 19:52:26   full_stack_java_php\n",
       "3 2018-01-26  09:56:24            javascript-i/conditionals        2       22.0  97.105.19.61    Teddy 2018-01-08 2018-05-17 2018-01-08 13:59:10 2018-01-08 13:59:10  full_stack_java_java\n",
       "4 2018-01-26  09:56:41                   javascript-i/loops        2       22.0  97.105.19.61    Teddy 2018-01-08 2018-05-17 2018-01-08 13:59:10 2018-01-08 13:59:10  full_stack_java_java"
      ]
     },
     "execution_count": 3,
     "metadata": {},
     "output_type": "execute_result"
    }
   ],
   "source": [
    "df.head()"
   ]
  },
  {
   "cell_type": "code",
   "execution_count": 4,
   "id": "90037de4",
   "metadata": {},
   "outputs": [
    {
     "data": {
      "text/html": [
       "<div>\n",
       "<style scoped>\n",
       "    .dataframe tbody tr th:only-of-type {\n",
       "        vertical-align: middle;\n",
       "    }\n",
       "\n",
       "    .dataframe tbody tr th {\n",
       "        vertical-align: top;\n",
       "    }\n",
       "\n",
       "    .dataframe thead th {\n",
       "        text-align: right;\n",
       "    }\n",
       "</style>\n",
       "<table border=\"1\" class=\"dataframe\">\n",
       "  <thead>\n",
       "    <tr style=\"text-align: right;\">\n",
       "      <th></th>\n",
       "      <th>count</th>\n",
       "      <th>mean</th>\n",
       "      <th>std</th>\n",
       "      <th>min</th>\n",
       "      <th>25%</th>\n",
       "      <th>50%</th>\n",
       "      <th>75%</th>\n",
       "      <th>max</th>\n",
       "    </tr>\n",
       "  </thead>\n",
       "  <tbody>\n",
       "    <tr>\n",
       "      <th>user_id</th>\n",
       "      <td>900223.0</td>\n",
       "      <td>458.825707</td>\n",
       "      <td>249.296767</td>\n",
       "      <td>1.0</td>\n",
       "      <td>269.0</td>\n",
       "      <td>475.0</td>\n",
       "      <td>660.0</td>\n",
       "      <td>981.0</td>\n",
       "    </tr>\n",
       "    <tr>\n",
       "      <th>cohort_id</th>\n",
       "      <td>847330.0</td>\n",
       "      <td>48.501049</td>\n",
       "      <td>32.795482</td>\n",
       "      <td>1.0</td>\n",
       "      <td>28.0</td>\n",
       "      <td>33.0</td>\n",
       "      <td>57.0</td>\n",
       "      <td>139.0</td>\n",
       "    </tr>\n",
       "  </tbody>\n",
       "</table>\n",
       "</div>"
      ],
      "text/plain": [
       "              count        mean         std  min    25%    50%    75%    max\n",
       "user_id    900223.0  458.825707  249.296767  1.0  269.0  475.0  660.0  981.0\n",
       "cohort_id  847330.0   48.501049   32.795482  1.0   28.0   33.0   57.0  139.0"
      ]
     },
     "execution_count": 4,
     "metadata": {},
     "output_type": "execute_result"
    }
   ],
   "source": [
    "df.describe().T"
   ]
  },
  {
   "cell_type": "markdown",
   "id": "cae82af3",
   "metadata": {},
   "source": [
    "### 1. Which lesson appears to attract the most traffic consistently across cohorts (per program)?"
   ]
  },
  {
   "cell_type": "markdown",
   "id": "5ef68224",
   "metadata": {},
   "source": [
    "### Full_stack_java_php : content/html-css and content/laravel/intro\n",
    "\n",
    "### Full_stack_java_java : mysql/tables\n",
    "\n",
    "### Datascience : 1-fundamentals/modern-data-scientist.jpg, classification/scale_features_or_not.svg, fundamentals/modern-data-scientist.jpg, 6-regression/1-overview, classification/overview\n",
    "\n",
    "### Front_end_web_dev : content/html-css"
   ]
  },
  {
   "cell_type": "code",
   "execution_count": 5,
   "id": "32938653",
   "metadata": {
    "scrolled": false
   },
   "outputs": [
    {
     "data": {
      "text/html": [
       "<div>\n",
       "<style scoped>\n",
       "    .dataframe tbody tr th:only-of-type {\n",
       "        vertical-align: middle;\n",
       "    }\n",
       "\n",
       "    .dataframe tbody tr th {\n",
       "        vertical-align: top;\n",
       "    }\n",
       "\n",
       "    .dataframe thead th {\n",
       "        text-align: right;\n",
       "    }\n",
       "</style>\n",
       "<table border=\"1\" class=\"dataframe\">\n",
       "  <thead>\n",
       "    <tr style=\"text-align: right;\">\n",
       "      <th></th>\n",
       "      <th>program</th>\n",
       "      <th>page</th>\n",
       "    </tr>\n",
       "  </thead>\n",
       "  <tbody>\n",
       "    <tr>\n",
       "      <th>0</th>\n",
       "      <td>full_stack_java_php</td>\n",
       "      <td>['content/html-css', 'content/laravel/intro']</td>\n",
       "    </tr>\n",
       "    <tr>\n",
       "      <th>0</th>\n",
       "      <td>full_stack_java_java</td>\n",
       "      <td>['mysql/tables']</td>\n",
       "    </tr>\n",
       "    <tr>\n",
       "      <th>0</th>\n",
       "      <td>datascience</td>\n",
       "      <td>['1-fundamentals/modern-data-scientist.jpg', '...</td>\n",
       "    </tr>\n",
       "    <tr>\n",
       "      <th>0</th>\n",
       "      <td>front_end_web_dev</td>\n",
       "      <td>['content/html-css']</td>\n",
       "    </tr>\n",
       "  </tbody>\n",
       "</table>\n",
       "</div>"
      ],
      "text/plain": [
       "                program                                               page\n",
       "0   full_stack_java_php      ['content/html-css', 'content/laravel/intro']\n",
       "0  full_stack_java_java                                   ['mysql/tables']\n",
       "0           datascience  ['1-fundamentals/modern-data-scientist.jpg', '...\n",
       "0     front_end_web_dev                               ['content/html-css']"
      ]
     },
     "execution_count": 5,
     "metadata": {},
     "output_type": "execute_result"
    }
   ],
   "source": [
    "wrangle.question_one(df)"
   ]
  },
  {
   "cell_type": "markdown",
   "id": "e68881ac",
   "metadata": {},
   "source": [
    "### 2. Is there a cohort that referred to a lesson significantly more than other cohorts seemed to gloss over?"
   ]
  },
  {
   "cell_type": "markdown",
   "id": "543c62c0",
   "metadata": {},
   "source": [
    "### full_stack_java_php : cohort 14 : spring/fundamentals/repositories\n",
    "\n",
    "### full_stack_java_java:  cohort 28 :  jquery/ajax/weather-map\n",
    "\n",
    "### datascience: cohort 59 : classification/overview\n",
    "\n",
    "### Front_end_web_dev : only had one cohort"
   ]
  },
  {
   "cell_type": "code",
   "execution_count": 6,
   "id": "f10fcbe3",
   "metadata": {
    "scrolled": false
   },
   "outputs": [
    {
     "data": {
      "text/html": [
       "<div>\n",
       "<style scoped>\n",
       "    .dataframe tbody tr th:only-of-type {\n",
       "        vertical-align: middle;\n",
       "    }\n",
       "\n",
       "    .dataframe tbody tr th {\n",
       "        vertical-align: top;\n",
       "    }\n",
       "\n",
       "    .dataframe thead th {\n",
       "        text-align: right;\n",
       "    }\n",
       "</style>\n",
       "<table border=\"1\" class=\"dataframe\">\n",
       "  <thead>\n",
       "    <tr style=\"text-align: right;\">\n",
       "      <th></th>\n",
       "      <th>path</th>\n",
       "      <th>cohort_id</th>\n",
       "      <th>user_id</th>\n",
       "      <th>cohort</th>\n",
       "      <th>program</th>\n",
       "    </tr>\n",
       "  </thead>\n",
       "  <tbody>\n",
       "    <tr>\n",
       "      <th>1888</th>\n",
       "      <td>spring/fundamentals/repositories</td>\n",
       "      <td>14.0</td>\n",
       "      <td>115</td>\n",
       "      <td>Lassen</td>\n",
       "      <td>full_stack_java_php</td>\n",
       "    </tr>\n",
       "    <tr>\n",
       "      <th>4506</th>\n",
       "      <td>jquery/ajax/weather-map</td>\n",
       "      <td>28.0</td>\n",
       "      <td>1050</td>\n",
       "      <td>Staff</td>\n",
       "      <td>full_stack_java_java</td>\n",
       "    </tr>\n",
       "    <tr>\n",
       "      <th>1169</th>\n",
       "      <td>classification/overview</td>\n",
       "      <td>59.0</td>\n",
       "      <td>1109</td>\n",
       "      <td>Darden</td>\n",
       "      <td>datascience</td>\n",
       "    </tr>\n",
       "  </tbody>\n",
       "</table>\n",
       "</div>"
      ],
      "text/plain": [
       "                                  path  cohort_id  user_id  cohort               program\n",
       "1888  spring/fundamentals/repositories       14.0      115  Lassen   full_stack_java_php\n",
       "4506           jquery/ajax/weather-map       28.0     1050   Staff  full_stack_java_java\n",
       "1169           classification/overview       59.0     1109  Darden           datascience"
      ]
     },
     "execution_count": 6,
     "metadata": {},
     "output_type": "execute_result"
    }
   ],
   "source": [
    "wrangle.question_two(df)"
   ]
  },
  {
   "cell_type": "markdown",
   "id": "f7a07476",
   "metadata": {},
   "source": [
    "# 7. Which lessons are least accessed?\n",
    "\n",
    "### Front_end_web_dev : content/html-css/gitbook/images/favicon.ico\n",
    "\n",
    "### Datascience : Tie across multiple pages\n",
    "\n",
    "### Full_stack_java_java : appendix/angular\n",
    "\n",
    "### Full_stack_java_php: prework/databases and spring/setup "
   ]
  },
  {
   "cell_type": "code",
   "execution_count": 7,
   "id": "6ffda13d",
   "metadata": {},
   "outputs": [
    {
     "data": {
      "text/html": [
       "<div>\n",
       "<style scoped>\n",
       "    .dataframe tbody tr th:only-of-type {\n",
       "        vertical-align: middle;\n",
       "    }\n",
       "\n",
       "    .dataframe tbody tr th {\n",
       "        vertical-align: top;\n",
       "    }\n",
       "\n",
       "    .dataframe thead th {\n",
       "        text-align: right;\n",
       "    }\n",
       "</style>\n",
       "<table border=\"1\" class=\"dataframe\">\n",
       "  <thead>\n",
       "    <tr style=\"text-align: right;\">\n",
       "      <th></th>\n",
       "      <th>program</th>\n",
       "      <th>page</th>\n",
       "    </tr>\n",
       "  </thead>\n",
       "  <tbody>\n",
       "    <tr>\n",
       "      <th>0</th>\n",
       "      <td>full_stack_java_php</td>\n",
       "      <td>['prework/databases', 'spring/setup']</td>\n",
       "    </tr>\n",
       "    <tr>\n",
       "      <th>0</th>\n",
       "      <td>full_stack_java_java</td>\n",
       "      <td>['appendix/angular']</td>\n",
       "    </tr>\n",
       "    <tr>\n",
       "      <th>0</th>\n",
       "      <td>datascience</td>\n",
       "      <td>['fundamentals/diagram-of-ds-pipeline-fraud-ex...</td>\n",
       "    </tr>\n",
       "    <tr>\n",
       "      <th>0</th>\n",
       "      <td>front_end_web_dev</td>\n",
       "      <td>['content/html-css/gitbook/images/favicon.ico']</td>\n",
       "    </tr>\n",
       "  </tbody>\n",
       "</table>\n",
       "</div>"
      ],
      "text/plain": [
       "                program                                               page\n",
       "0   full_stack_java_php              ['prework/databases', 'spring/setup']\n",
       "0  full_stack_java_java                               ['appendix/angular']\n",
       "0           datascience  ['fundamentals/diagram-of-ds-pipeline-fraud-ex...\n",
       "0     front_end_web_dev    ['content/html-css/gitbook/images/favicon.ico']"
      ]
     },
     "execution_count": 7,
     "metadata": {},
     "output_type": "execute_result"
    }
   ],
   "source": [
    "wrangle.question_three(df)"
   ]
  },
  {
   "cell_type": "markdown",
   "id": "c5f8ccea",
   "metadata": {},
   "source": [
    "# Conclusion\n",
    "> There was not sufficent time to evaluate the different file path names to determine if they were a lesson make this sound better"
   ]
  },
  {
   "cell_type": "markdown",
   "id": "c8b105a0",
   "metadata": {},
   "source": [
    "# Recommendations\n",
    "> Implement an automated file path analysis tool\n",
    "> Collaborate with subject matter experts"
   ]
  },
  {
   "cell_type": "markdown",
   "id": "c39b16ef",
   "metadata": {},
   "source": [
    "# Next Steps\n",
    "> * Reach out to subject matter experts who possess knowledge of the curriculum or lesson content. Share the file path names with them and seek their input in identifying any patterns, keywords, or indicators of lesson relevance.\n",
    " \n",
    "> * Explore existing automated tools or scripts that can assist in analyzing file path names. Research the available options, select the most suitable tool for your needs, and implement it within your evaluation process. Test the tool's effectiveness and fine-tune its parameters if necessary."
   ]
  }
 ],
 "metadata": {
  "kernelspec": {
   "display_name": "Python 3 (ipykernel)",
   "language": "python",
   "name": "python3"
  },
  "language_info": {
   "codemirror_mode": {
    "name": "ipython",
    "version": 3
   },
   "file_extension": ".py",
   "mimetype": "text/x-python",
   "name": "python",
   "nbconvert_exporter": "python",
   "pygments_lexer": "ipython3",
   "version": "3.9.16"
  }
 },
 "nbformat": 4,
 "nbformat_minor": 5
}
